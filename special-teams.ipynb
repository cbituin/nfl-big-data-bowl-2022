{
 "cells": [
  {
   "cell_type": "markdown",
   "metadata": {},
   "source": [
    "# NFL Big Data Bowl 2022 Notebook\n",
    "### Author: Conrad Bituin"
   ]
  },
  {
   "cell_type": "markdown",
   "metadata": {},
   "source": [
    "## Topic to Analyze\n",
    "\n",
    "Quantify special teams strategy. Special teams’ coaches are among the most creative and innovative in the league. Compare/contrast how each team game plans. Which strategies yield the best results? What are other strategies that could be adopted?\n"
   ]
  },
  {
   "cell_type": "markdown",
   "metadata": {},
   "source": [
    "### References\n",
    "- [Official Competition Page](https://www.kaggle.com/c/nfl-big-data-bowl-2022/overview)\n",
    "- [Official Explanation of Data](https://www.kaggle.com/c/nfl-big-data-bowl-2022/data)\n",
    "- [Beginner Notebook via Kaggle](https://www.kaggle.com/werooring/nfl-big-data-bowl-basic-eda-for-beginner/notebook)\n",
    "- [Previous Bowl Recaps](https://operations.nfl.com/gameday/analytics/big-data-bowl/past-big-data-bowl-recaps/)"
   ]
  },
  {
   "cell_type": "markdown",
   "metadata": {},
   "source": [
    "## Background"
   ]
  },
  {
   "cell_type": "markdown",
   "metadata": {},
   "source": [
    "As of the writing of this notebook (Week 14, 2021 Season), NFL kickers have collectively missed 69 extra point attempts (PATs) and 122 field goals in the 2021 season [according to Pro Football Reference](https://www.pro-football-reference.com/). The intent of this notebook is to analyze the various situations and scenarios that could affect PAT and field goal outcomes. The model produced will attempt to find the optimal field conditions that will produce the highest likelihood for successful extra point and field goal attempts."
   ]
  },
  {
   "cell_type": "markdown",
   "metadata": {},
   "source": [
    "## Acquire Data"
   ]
  },
  {
   "cell_type": "code",
   "execution_count": 1,
   "metadata": {},
   "outputs": [],
   "source": [
    "# Common imports\n",
    "\n",
    "import matplotlib.pyplot as plt\n",
    "import matplotlib as mpl\n",
    "from matplotlib import cm\n",
    "import numpy as np\n",
    "import pandas as pd"
   ]
  },
  {
   "cell_type": "code",
   "execution_count": 4,
   "metadata": {},
   "outputs": [],
   "source": [
    "# File imports\n",
    "\n",
    "# The games.csv contains the teams playing in each game. The key variable is gameId.\n",
    "games_df = pd.read_csv('../data/games.csv')\n",
    "\n",
    "# The PFFScoutingData.csv file contains play-level scouting information for each game. The key variables are gameId and playId.\n",
    "pffscouting_df = pd.read_csv('../data/PFFScoutingData.csv')\n",
    "\n",
    "# The players.csv file contains player-level information from players that participated in any of the tracking data files. The key variable is nflId.\n",
    "players_df = pd.read_csv('../data/players.csv')\n",
    "\n",
    "# The plays.csv file contains play-level information from each game. The key variables are gameId and playId.\n",
    "plays_df = pd.read_csv('../data/plays.csv')\n",
    "\n",
    "#Files tracking[season].csv contain player tracking data from season [season]. The key variables are gameId, playId, and nflId.\n",
    "tracking_2018_df = pd.read_csv('../data/tracking2018.csv')\n",
    "tracking_2019_df = pd.read_csv('../data/tracking2019.csv')\n",
    "tracking_2020_df = pd.read_csv('../data/tracking2020.csv')"
   ]
  },
  {
   "cell_type": "markdown",
   "metadata": {},
   "source": [
    "## Analyze and Describe Data"
   ]
  },
  {
   "cell_type": "code",
   "execution_count": 39,
   "metadata": {},
   "outputs": [
    {
     "name": "stdout",
     "output_type": "stream",
     "text": [
      "<class 'pandas.core.frame.DataFrame'>\n",
      "RangeIndex: 764 entries, 0 to 763\n",
      "Data columns (total 7 columns):\n",
      " #   Column           Non-Null Count  Dtype \n",
      "---  ------           --------------  ----- \n",
      " 0   gameId           764 non-null    int64 \n",
      " 1   season           764 non-null    int64 \n",
      " 2   week             764 non-null    int64 \n",
      " 3   gameDate         764 non-null    object\n",
      " 4   gameTimeEastern  764 non-null    object\n",
      " 5   homeTeamAbbr     764 non-null    object\n",
      " 6   visitorTeamAbbr  764 non-null    object\n",
      "dtypes: int64(3), object(4)\n",
      "memory usage: 41.9+ KB\n"
     ]
    }
   ],
   "source": [
    "games_df.info()"
   ]
  },
  {
   "cell_type": "code",
   "execution_count": 24,
   "metadata": {},
   "outputs": [
    {
     "name": "stdout",
     "output_type": "stream",
     "text": [
      "<class 'pandas.core.frame.DataFrame'>\n",
      "RangeIndex: 2732 entries, 0 to 2731\n",
      "Data columns (total 7 columns):\n",
      " #   Column       Non-Null Count  Dtype \n",
      "---  ------       --------------  ----- \n",
      " 0   nflId        2732 non-null   int64 \n",
      " 1   height       2732 non-null   object\n",
      " 2   weight       2732 non-null   int64 \n",
      " 3   birthDate    2715 non-null   object\n",
      " 4   collegeName  2724 non-null   object\n",
      " 5   Position     2732 non-null   object\n",
      " 6   displayName  2732 non-null   object\n",
      "dtypes: int64(2), object(5)\n",
      "memory usage: 149.5+ KB\n"
     ]
    }
   ],
   "source": [
    "players_df.info()"
   ]
  },
  {
   "cell_type": "code",
   "execution_count": 45,
   "metadata": {},
   "outputs": [
    {
     "data": {
      "text/plain": [
       "array(['Kickoff', 'Punt', 'Field Goal', 'Extra Point'], dtype=object)"
      ]
     },
     "execution_count": 45,
     "metadata": {},
     "output_type": "execute_result"
    }
   ],
   "source": [
    "# plays_df.info()\n",
    "# plays_df.head(40)\n",
    "plays_df.specialTeamsPlayType.unique() # Will need to target 'Field Goal', 'Extra Point'"
   ]
  },
  {
   "cell_type": "code",
   "execution_count": 27,
   "metadata": {},
   "outputs": [
    {
     "name": "stdout",
     "output_type": "stream",
     "text": [
      "<class 'pandas.core.frame.DataFrame'>\n",
      "RangeIndex: 12777351 entries, 0 to 12777350\n",
      "Data columns (total 18 columns):\n",
      " #   Column         Dtype  \n",
      "---  ------         -----  \n",
      " 0   time           object \n",
      " 1   x              float64\n",
      " 2   y              float64\n",
      " 3   s              float64\n",
      " 4   a              float64\n",
      " 5   dis            float64\n",
      " 6   o              float64\n",
      " 7   dir            float64\n",
      " 8   event          object \n",
      " 9   nflId          float64\n",
      " 10  displayName    object \n",
      " 11  jerseyNumber   float64\n",
      " 12  position       object \n",
      " 13  team           object \n",
      " 14  frameId        int64  \n",
      " 15  gameId         int64  \n",
      " 16  playId         int64  \n",
      " 17  playDirection  object \n",
      "dtypes: float64(9), int64(3), object(6)\n",
      "memory usage: 1.7+ GB\n"
     ]
    }
   ],
   "source": [
    "tracking_2018_df.info()"
   ]
  },
  {
   "cell_type": "code",
   "execution_count": 28,
   "metadata": {},
   "outputs": [
    {
     "name": "stdout",
     "output_type": "stream",
     "text": [
      "<class 'pandas.core.frame.DataFrame'>\n",
      "RangeIndex: 12170933 entries, 0 to 12170932\n",
      "Data columns (total 18 columns):\n",
      " #   Column         Dtype  \n",
      "---  ------         -----  \n",
      " 0   time           object \n",
      " 1   x              float64\n",
      " 2   y              float64\n",
      " 3   s              float64\n",
      " 4   a              float64\n",
      " 5   dis            float64\n",
      " 6   o              float64\n",
      " 7   dir            float64\n",
      " 8   event          object \n",
      " 9   nflId          float64\n",
      " 10  displayName    object \n",
      " 11  jerseyNumber   float64\n",
      " 12  position       object \n",
      " 13  team           object \n",
      " 14  frameId        int64  \n",
      " 15  gameId         int64  \n",
      " 16  playId         int64  \n",
      " 17  playDirection  object \n",
      "dtypes: float64(9), int64(3), object(6)\n",
      "memory usage: 1.6+ GB\n"
     ]
    }
   ],
   "source": [
    "tracking_2019_df.info()"
   ]
  },
  {
   "cell_type": "code",
   "execution_count": 29,
   "metadata": {},
   "outputs": [
    {
     "name": "stdout",
     "output_type": "stream",
     "text": [
      "<class 'pandas.core.frame.DataFrame'>\n",
      "RangeIndex: 11821701 entries, 0 to 11821700\n",
      "Data columns (total 18 columns):\n",
      " #   Column         Dtype  \n",
      "---  ------         -----  \n",
      " 0   time           object \n",
      " 1   x              float64\n",
      " 2   y              float64\n",
      " 3   s              float64\n",
      " 4   a              float64\n",
      " 5   dis            float64\n",
      " 6   o              float64\n",
      " 7   dir            float64\n",
      " 8   event          object \n",
      " 9   nflId          float64\n",
      " 10  displayName    object \n",
      " 11  jerseyNumber   float64\n",
      " 12  position       object \n",
      " 13  team           object \n",
      " 14  frameId        int64  \n",
      " 15  gameId         int64  \n",
      " 16  playId         int64  \n",
      " 17  playDirection  object \n",
      "dtypes: float64(9), int64(3), object(6)\n",
      "memory usage: 1.6+ GB\n"
     ]
    }
   ],
   "source": [
    "tracking_2020_df.info()"
   ]
  },
  {
   "cell_type": "markdown",
   "metadata": {},
   "source": [
    "## Wrangle Data"
   ]
  },
  {
   "cell_type": "markdown",
   "metadata": {},
   "source": [
    "### Feature Engineering"
   ]
  },
  {
   "cell_type": "code",
   "execution_count": null,
   "metadata": {},
   "outputs": [],
   "source": []
  },
  {
   "cell_type": "markdown",
   "metadata": {},
   "source": [
    "### Response Engineering"
   ]
  },
  {
   "cell_type": "code",
   "execution_count": null,
   "metadata": {},
   "outputs": [],
   "source": []
  },
  {
   "cell_type": "code",
   "execution_count": null,
   "metadata": {},
   "outputs": [],
   "source": []
  }
 ],
 "metadata": {
  "interpreter": {
   "hash": "89879450a8b782232bf246dbf054832d797e2a3b680d34418effd5abddb34158"
  },
  "kernelspec": {
   "display_name": "Python 3",
   "language": "python",
   "name": "python3"
  },
  "language_info": {
   "codemirror_mode": {
    "name": "ipython",
    "version": 3
   },
   "file_extension": ".py",
   "mimetype": "text/x-python",
   "name": "python",
   "nbconvert_exporter": "python",
   "pygments_lexer": "ipython3",
   "version": "3.8.5"
  }
 },
 "nbformat": 4,
 "nbformat_minor": 2
}
