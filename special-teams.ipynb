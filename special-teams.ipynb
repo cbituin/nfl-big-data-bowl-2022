{
 "cells": [
  {
   "cell_type": "markdown",
   "metadata": {},
   "source": [
    "# NFL Big Data Bowl 2022 Notebook\n",
    "### Author: Conrad Bituin"
   ]
  },
  {
   "cell_type": "markdown",
   "metadata": {},
   "source": [
    "## Topic to Analyze\n",
    "\n",
    "Quantify special teams strategy. Special teams’ coaches are among the most creative and innovative in the league. Compare/contrast how each team game plans. Which strategies yield the best results? What are other strategies that could be adopted?\n"
   ]
  },
  {
   "cell_type": "markdown",
   "metadata": {},
   "source": [
    "### References\n",
    "- [Official Competition Page](https://www.kaggle.com/c/nfl-big-data-bowl-2022/overview)\n",
    "- [Official Explanation of Data](https://www.kaggle.com/c/nfl-big-data-bowl-2022/data)\n",
    "- [Beginner Notebook via Kaggle](https://www.kaggle.com/werooring/nfl-big-data-bowl-basic-eda-for-beginner/notebook)\n",
    "- [Previous Bowl Recaps](https://operations.nfl.com/gameday/analytics/big-data-bowl/past-big-data-bowl-recaps/)"
   ]
  },
  {
   "cell_type": "markdown",
   "metadata": {},
   "source": [
    "## Background"
   ]
  },
  {
   "cell_type": "markdown",
   "metadata": {},
   "source": [
    "As of the writing of this notebook (Week 14, 2021 Season), NFL kickers have collectively missed 69 extra point attempts (PATs) and 122 field goals in the 2021 season [according to Pro Football Reference](https://www.pro-football-reference.com/). The intent of this notebook is to analyze the various situations and scenarios that could affect PAT and field goal outcomes. The model produced will attempt to find the optimal field conditions that will produce the highest likelihood for successful extra point and field goal attempts."
   ]
  },
  {
   "cell_type": "markdown",
   "metadata": {},
   "source": [
    "## Acquire Data"
   ]
  },
  {
   "cell_type": "code",
   "execution_count": 1,
   "metadata": {},
   "outputs": [],
   "source": [
    "# Common imports\n",
    "\n",
    "import matplotlib.pyplot as plt\n",
    "import matplotlib as mpl\n",
    "from matplotlib import cm\n",
    "import numpy as np\n",
    "import pandas as pd"
   ]
  },
  {
   "cell_type": "code",
   "execution_count": 2,
   "metadata": {},
   "outputs": [],
   "source": [
    "# File imports\n",
    "\n",
    "# The games.csv contains the teams playing in each game. The key variable is gameId.\n",
    "games_df = pd.read_csv('../data/games.csv')\n",
    "\n",
    "# The PFFScoutingData.csv file contains play-level scouting information for each game. The key variables are gameId and playId.\n",
    "pffscouting_df = pd.read_csv('../data/PFFScoutingData.csv')\n",
    "\n",
    "# The players.csv file contains player-level information from players that participated in any of the tracking data files. The key variable is nflId.\n",
    "players_df = pd.read_csv('../data/players.csv')\n",
    "\n",
    "# The plays.csv file contains play-level information from each game. The key variables are gameId and playId.\n",
    "plays_df = pd.read_csv('../data/plays.csv')\n",
    "\n",
    "#Files tracking[season].csv contain player tracking data from season [season]. The key variables are gameId, playId, and nflId.\n",
    "tracking_2018_df = pd.read_csv('../data/tracking2018.csv')\n",
    "tracking_2019_df = pd.read_csv('../data/tracking2019.csv')\n",
    "tracking_2020_df = pd.read_csv('../data/tracking2020.csv')"
   ]
  },
  {
   "cell_type": "markdown",
   "metadata": {},
   "source": [
    "## Analyze and Describe Data\n",
    "\n",
    "### Summary \n",
    "\n",
    "Based on the data provided for consideration, there are a total of:\n",
    "- 764 games\n",
    "- 2732 players\n",
    "- 4435 plays\n",
    "  - 1986 plays were Field Goal attempts\n",
    "  - 2345 plays were Extra Point attempts \n"
   ]
  },
  {
   "cell_type": "markdown",
   "metadata": {},
   "source": [
    "### Overview of Games, Plays, and Players"
   ]
  },
  {
   "cell_type": "code",
   "execution_count": 3,
   "metadata": {},
   "outputs": [
    {
     "name": "stdout",
     "output_type": "stream",
     "text": [
      "Dataframe: Games\n"
     ]
    },
    {
     "data": {
      "text/html": [
       "<div>\n",
       "<style scoped>\n",
       "    .dataframe tbody tr th:only-of-type {\n",
       "        vertical-align: middle;\n",
       "    }\n",
       "\n",
       "    .dataframe tbody tr th {\n",
       "        vertical-align: top;\n",
       "    }\n",
       "\n",
       "    .dataframe thead th {\n",
       "        text-align: right;\n",
       "    }\n",
       "</style>\n",
       "<table border=\"1\" class=\"dataframe\">\n",
       "  <thead>\n",
       "    <tr style=\"text-align: right;\">\n",
       "      <th></th>\n",
       "      <th>gameId</th>\n",
       "      <th>season</th>\n",
       "      <th>week</th>\n",
       "      <th>gameDate</th>\n",
       "      <th>gameTimeEastern</th>\n",
       "      <th>homeTeamAbbr</th>\n",
       "      <th>visitorTeamAbbr</th>\n",
       "    </tr>\n",
       "  </thead>\n",
       "  <tbody>\n",
       "    <tr>\n",
       "      <th>0</th>\n",
       "      <td>2018090600</td>\n",
       "      <td>2018</td>\n",
       "      <td>1</td>\n",
       "      <td>09/06/2018</td>\n",
       "      <td>20:20:00</td>\n",
       "      <td>PHI</td>\n",
       "      <td>ATL</td>\n",
       "    </tr>\n",
       "    <tr>\n",
       "      <th>1</th>\n",
       "      <td>2018090900</td>\n",
       "      <td>2018</td>\n",
       "      <td>1</td>\n",
       "      <td>09/09/2018</td>\n",
       "      <td>13:00:00</td>\n",
       "      <td>BAL</td>\n",
       "      <td>BUF</td>\n",
       "    </tr>\n",
       "    <tr>\n",
       "      <th>2</th>\n",
       "      <td>2018090901</td>\n",
       "      <td>2018</td>\n",
       "      <td>1</td>\n",
       "      <td>09/09/2018</td>\n",
       "      <td>13:00:00</td>\n",
       "      <td>CLE</td>\n",
       "      <td>PIT</td>\n",
       "    </tr>\n",
       "    <tr>\n",
       "      <th>3</th>\n",
       "      <td>2018090902</td>\n",
       "      <td>2018</td>\n",
       "      <td>1</td>\n",
       "      <td>09/09/2018</td>\n",
       "      <td>13:00:00</td>\n",
       "      <td>IND</td>\n",
       "      <td>CIN</td>\n",
       "    </tr>\n",
       "    <tr>\n",
       "      <th>4</th>\n",
       "      <td>2018090903</td>\n",
       "      <td>2018</td>\n",
       "      <td>1</td>\n",
       "      <td>09/09/2018</td>\n",
       "      <td>13:00:00</td>\n",
       "      <td>MIA</td>\n",
       "      <td>TEN</td>\n",
       "    </tr>\n",
       "  </tbody>\n",
       "</table>\n",
       "</div>"
      ],
      "text/plain": [
       "       gameId  season  week    gameDate gameTimeEastern homeTeamAbbr  \\\n",
       "0  2018090600    2018     1  09/06/2018        20:20:00          PHI   \n",
       "1  2018090900    2018     1  09/09/2018        13:00:00          BAL   \n",
       "2  2018090901    2018     1  09/09/2018        13:00:00          CLE   \n",
       "3  2018090902    2018     1  09/09/2018        13:00:00          IND   \n",
       "4  2018090903    2018     1  09/09/2018        13:00:00          MIA   \n",
       "\n",
       "  visitorTeamAbbr  \n",
       "0             ATL  \n",
       "1             BUF  \n",
       "2             PIT  \n",
       "3             CIN  \n",
       "4             TEN  "
      ]
     },
     "execution_count": 3,
     "metadata": {},
     "output_type": "execute_result"
    }
   ],
   "source": [
    "print('Dataframe: Games')\n",
    "games_df.head()"
   ]
  },
  {
   "cell_type": "code",
   "execution_count": 4,
   "metadata": {},
   "outputs": [
    {
     "name": "stdout",
     "output_type": "stream",
     "text": [
      "Dataframe: Players\n"
     ]
    },
    {
     "data": {
      "text/html": [
       "<div>\n",
       "<style scoped>\n",
       "    .dataframe tbody tr th:only-of-type {\n",
       "        vertical-align: middle;\n",
       "    }\n",
       "\n",
       "    .dataframe tbody tr th {\n",
       "        vertical-align: top;\n",
       "    }\n",
       "\n",
       "    .dataframe thead th {\n",
       "        text-align: right;\n",
       "    }\n",
       "</style>\n",
       "<table border=\"1\" class=\"dataframe\">\n",
       "  <thead>\n",
       "    <tr style=\"text-align: right;\">\n",
       "      <th></th>\n",
       "      <th>nflId</th>\n",
       "      <th>height</th>\n",
       "      <th>weight</th>\n",
       "      <th>birthDate</th>\n",
       "      <th>collegeName</th>\n",
       "      <th>Position</th>\n",
       "      <th>displayName</th>\n",
       "    </tr>\n",
       "  </thead>\n",
       "  <tbody>\n",
       "    <tr>\n",
       "      <th>0</th>\n",
       "      <td>42901</td>\n",
       "      <td>6-1</td>\n",
       "      <td>208</td>\n",
       "      <td>1992-07-25</td>\n",
       "      <td>James Madison</td>\n",
       "      <td>SS</td>\n",
       "      <td>Dean Marlowe</td>\n",
       "    </tr>\n",
       "    <tr>\n",
       "      <th>1</th>\n",
       "      <td>43501</td>\n",
       "      <td>6-0</td>\n",
       "      <td>220</td>\n",
       "      <td>1994-08-11</td>\n",
       "      <td>Central Michigan</td>\n",
       "      <td>FS</td>\n",
       "      <td>Kavon Frazier</td>\n",
       "    </tr>\n",
       "    <tr>\n",
       "      <th>2</th>\n",
       "      <td>43534</td>\n",
       "      <td>6-0</td>\n",
       "      <td>205</td>\n",
       "      <td>1993-06-02</td>\n",
       "      <td>Illinois</td>\n",
       "      <td>SS</td>\n",
       "      <td>Clayton Fejedelem</td>\n",
       "    </tr>\n",
       "    <tr>\n",
       "      <th>3</th>\n",
       "      <td>43535</td>\n",
       "      <td>6-1</td>\n",
       "      <td>235</td>\n",
       "      <td>1992-12-22</td>\n",
       "      <td>Temple</td>\n",
       "      <td>MLB</td>\n",
       "      <td>Tyler Matakevich</td>\n",
       "    </tr>\n",
       "    <tr>\n",
       "      <th>4</th>\n",
       "      <td>44174</td>\n",
       "      <td>6-1</td>\n",
       "      <td>236</td>\n",
       "      <td>1993-02-22</td>\n",
       "      <td>Texas Tech</td>\n",
       "      <td>ILB</td>\n",
       "      <td>Sam Eguavoen</td>\n",
       "    </tr>\n",
       "  </tbody>\n",
       "</table>\n",
       "</div>"
      ],
      "text/plain": [
       "   nflId height  weight   birthDate       collegeName Position  \\\n",
       "0  42901    6-1     208  1992-07-25     James Madison       SS   \n",
       "1  43501    6-0     220  1994-08-11  Central Michigan       FS   \n",
       "2  43534    6-0     205  1993-06-02          Illinois       SS   \n",
       "3  43535    6-1     235  1992-12-22            Temple      MLB   \n",
       "4  44174    6-1     236  1993-02-22        Texas Tech      ILB   \n",
       "\n",
       "         displayName  \n",
       "0       Dean Marlowe  \n",
       "1      Kavon Frazier  \n",
       "2  Clayton Fejedelem  \n",
       "3   Tyler Matakevich  \n",
       "4       Sam Eguavoen  "
      ]
     },
     "execution_count": 4,
     "metadata": {},
     "output_type": "execute_result"
    }
   ],
   "source": [
    "print('Dataframe: Players')\n",
    "players_df.head()"
   ]
  },
  {
   "cell_type": "code",
   "execution_count": 5,
   "metadata": {},
   "outputs": [
    {
     "name": "stdout",
     "output_type": "stream",
     "text": [
      "Dataframe: Plays\n"
     ]
    },
    {
     "data": {
      "text/html": [
       "<div>\n",
       "<style scoped>\n",
       "    .dataframe tbody tr th:only-of-type {\n",
       "        vertical-align: middle;\n",
       "    }\n",
       "\n",
       "    .dataframe tbody tr th {\n",
       "        vertical-align: top;\n",
       "    }\n",
       "\n",
       "    .dataframe thead th {\n",
       "        text-align: right;\n",
       "    }\n",
       "</style>\n",
       "<table border=\"1\" class=\"dataframe\">\n",
       "  <thead>\n",
       "    <tr style=\"text-align: right;\">\n",
       "      <th></th>\n",
       "      <th>gameId</th>\n",
       "      <th>playId</th>\n",
       "      <th>playDescription</th>\n",
       "      <th>quarter</th>\n",
       "      <th>down</th>\n",
       "      <th>yardsToGo</th>\n",
       "      <th>possessionTeam</th>\n",
       "      <th>specialTeamsPlayType</th>\n",
       "      <th>specialTeamsResult</th>\n",
       "      <th>kickerId</th>\n",
       "      <th>...</th>\n",
       "      <th>penaltyCodes</th>\n",
       "      <th>penaltyJerseyNumbers</th>\n",
       "      <th>penaltyYards</th>\n",
       "      <th>preSnapHomeScore</th>\n",
       "      <th>preSnapVisitorScore</th>\n",
       "      <th>passResult</th>\n",
       "      <th>kickLength</th>\n",
       "      <th>kickReturnYardage</th>\n",
       "      <th>playResult</th>\n",
       "      <th>absoluteYardlineNumber</th>\n",
       "    </tr>\n",
       "  </thead>\n",
       "  <tbody>\n",
       "    <tr>\n",
       "      <th>0</th>\n",
       "      <td>2018090600</td>\n",
       "      <td>37</td>\n",
       "      <td>J.Elliott kicks 65 yards from PHI 35 to end zo...</td>\n",
       "      <td>1</td>\n",
       "      <td>0</td>\n",
       "      <td>0</td>\n",
       "      <td>PHI</td>\n",
       "      <td>Kickoff</td>\n",
       "      <td>Touchback</td>\n",
       "      <td>44966.0</td>\n",
       "      <td>...</td>\n",
       "      <td>NaN</td>\n",
       "      <td>NaN</td>\n",
       "      <td>NaN</td>\n",
       "      <td>0</td>\n",
       "      <td>0</td>\n",
       "      <td>NaN</td>\n",
       "      <td>66.0</td>\n",
       "      <td>NaN</td>\n",
       "      <td>40</td>\n",
       "      <td>45</td>\n",
       "    </tr>\n",
       "    <tr>\n",
       "      <th>1</th>\n",
       "      <td>2018090600</td>\n",
       "      <td>366</td>\n",
       "      <td>(9:20) C.Johnston punts 56 yards to ATL 36, Ce...</td>\n",
       "      <td>1</td>\n",
       "      <td>4</td>\n",
       "      <td>4</td>\n",
       "      <td>PHI</td>\n",
       "      <td>Punt</td>\n",
       "      <td>Return</td>\n",
       "      <td>45603.0</td>\n",
       "      <td>...</td>\n",
       "      <td>UNSd</td>\n",
       "      <td>PHI 18</td>\n",
       "      <td>-15.0</td>\n",
       "      <td>0</td>\n",
       "      <td>0</td>\n",
       "      <td>NaN</td>\n",
       "      <td>56.0</td>\n",
       "      <td>5.0</td>\n",
       "      <td>36</td>\n",
       "      <td>18</td>\n",
       "    </tr>\n",
       "    <tr>\n",
       "      <th>2</th>\n",
       "      <td>2018090600</td>\n",
       "      <td>658</td>\n",
       "      <td>(5:03) M.Bryant 21 yard field goal is GOOD, Ce...</td>\n",
       "      <td>1</td>\n",
       "      <td>4</td>\n",
       "      <td>3</td>\n",
       "      <td>ATL</td>\n",
       "      <td>Field Goal</td>\n",
       "      <td>Kick Attempt Good</td>\n",
       "      <td>27091.0</td>\n",
       "      <td>...</td>\n",
       "      <td>NaN</td>\n",
       "      <td>NaN</td>\n",
       "      <td>NaN</td>\n",
       "      <td>0</td>\n",
       "      <td>0</td>\n",
       "      <td>NaN</td>\n",
       "      <td>21.0</td>\n",
       "      <td>NaN</td>\n",
       "      <td>0</td>\n",
       "      <td>13</td>\n",
       "    </tr>\n",
       "    <tr>\n",
       "      <th>3</th>\n",
       "      <td>2018090600</td>\n",
       "      <td>677</td>\n",
       "      <td>M.Bosher kicks 64 yards from ATL 35 to PHI 1. ...</td>\n",
       "      <td>1</td>\n",
       "      <td>0</td>\n",
       "      <td>0</td>\n",
       "      <td>ATL</td>\n",
       "      <td>Kickoff</td>\n",
       "      <td>Return</td>\n",
       "      <td>37267.0</td>\n",
       "      <td>...</td>\n",
       "      <td>NaN</td>\n",
       "      <td>NaN</td>\n",
       "      <td>NaN</td>\n",
       "      <td>0</td>\n",
       "      <td>3</td>\n",
       "      <td>NaN</td>\n",
       "      <td>64.0</td>\n",
       "      <td>30.0</td>\n",
       "      <td>34</td>\n",
       "      <td>75</td>\n",
       "    </tr>\n",
       "    <tr>\n",
       "      <th>4</th>\n",
       "      <td>2018090600</td>\n",
       "      <td>872</td>\n",
       "      <td>(:33) C.Johnston punts 65 yards to end zone, C...</td>\n",
       "      <td>1</td>\n",
       "      <td>4</td>\n",
       "      <td>18</td>\n",
       "      <td>PHI</td>\n",
       "      <td>Punt</td>\n",
       "      <td>Touchback</td>\n",
       "      <td>45603.0</td>\n",
       "      <td>...</td>\n",
       "      <td>NaN</td>\n",
       "      <td>NaN</td>\n",
       "      <td>NaN</td>\n",
       "      <td>0</td>\n",
       "      <td>3</td>\n",
       "      <td>NaN</td>\n",
       "      <td>65.0</td>\n",
       "      <td>NaN</td>\n",
       "      <td>45</td>\n",
       "      <td>45</td>\n",
       "    </tr>\n",
       "  </tbody>\n",
       "</table>\n",
       "<p>5 rows × 25 columns</p>\n",
       "</div>"
      ],
      "text/plain": [
       "       gameId  playId                                    playDescription  \\\n",
       "0  2018090600      37  J.Elliott kicks 65 yards from PHI 35 to end zo...   \n",
       "1  2018090600     366  (9:20) C.Johnston punts 56 yards to ATL 36, Ce...   \n",
       "2  2018090600     658  (5:03) M.Bryant 21 yard field goal is GOOD, Ce...   \n",
       "3  2018090600     677  M.Bosher kicks 64 yards from ATL 35 to PHI 1. ...   \n",
       "4  2018090600     872  (:33) C.Johnston punts 65 yards to end zone, C...   \n",
       "\n",
       "   quarter  down  yardsToGo possessionTeam specialTeamsPlayType  \\\n",
       "0        1     0          0            PHI              Kickoff   \n",
       "1        1     4          4            PHI                 Punt   \n",
       "2        1     4          3            ATL           Field Goal   \n",
       "3        1     0          0            ATL              Kickoff   \n",
       "4        1     4         18            PHI                 Punt   \n",
       "\n",
       "  specialTeamsResult  kickerId  ... penaltyCodes  penaltyJerseyNumbers  \\\n",
       "0          Touchback   44966.0  ...          NaN                   NaN   \n",
       "1             Return   45603.0  ...         UNSd                PHI 18   \n",
       "2  Kick Attempt Good   27091.0  ...          NaN                   NaN   \n",
       "3             Return   37267.0  ...          NaN                   NaN   \n",
       "4          Touchback   45603.0  ...          NaN                   NaN   \n",
       "\n",
       "  penaltyYards  preSnapHomeScore preSnapVisitorScore passResult kickLength  \\\n",
       "0          NaN                 0                   0        NaN       66.0   \n",
       "1        -15.0                 0                   0        NaN       56.0   \n",
       "2          NaN                 0                   0        NaN       21.0   \n",
       "3          NaN                 0                   3        NaN       64.0   \n",
       "4          NaN                 0                   3        NaN       65.0   \n",
       "\n",
       "   kickReturnYardage  playResult  absoluteYardlineNumber  \n",
       "0                NaN          40                      45  \n",
       "1                5.0          36                      18  \n",
       "2                NaN           0                      13  \n",
       "3               30.0          34                      75  \n",
       "4                NaN          45                      45  \n",
       "\n",
       "[5 rows x 25 columns]"
      ]
     },
     "execution_count": 5,
     "metadata": {},
     "output_type": "execute_result"
    }
   ],
   "source": [
    "print('Dataframe: Plays')\n",
    "plays_df.head()"
   ]
  },
  {
   "cell_type": "markdown",
   "metadata": {},
   "source": [
    "### Creating Test Sets"
   ]
  },
  {
   "cell_type": "code",
   "execution_count": 6,
   "metadata": {},
   "outputs": [],
   "source": [
    "from sklearn.model_selection import train_test_split\n",
    "\n",
    "fg_df = plays_df[plays_df.specialTeamsPlayType == 'Field Goal']\n",
    "pat_df = plays_df[plays_df.specialTeamsPlayType == 'Extra Point']\n",
    "\n",
    "fg_train, fg_test = train_test_split(fg_df, test_size=0.2, random_state=42)\n",
    "\n",
    "pat_train, pat_test = train_test_split(pat_df, test_size=0.2, random_state=42)"
   ]
  },
  {
   "cell_type": "code",
   "execution_count": 7,
   "metadata": {},
   "outputs": [],
   "source": [
    "# Preparing Data for Visualization\n",
    "%matplotlib inline\n",
    "\n",
    "# Field Goal Plays\n",
    "fg_df_by_quarter = fg_train.groupby('quarter').nunique().reset_index()[['quarter','playId']]\n",
    "fg_df_by_down = fg_train.groupby('down').nunique().reset_index()[['down','playId']]\n",
    "\n",
    "fg_success_by_kicker = fg_train[fg_train.specialTeamsResult == 'Kick Attempt Good'].groupby('kickerId').nunique().reset_index()[['kickerId','playId']]\n",
    "fg_total_by_kicker = fg_train.groupby('kickerId').nunique().reset_index()[['kickerId','playId']]\n",
    "\n",
    "fg_success_by_team = fg_train[fg_train.specialTeamsResult == 'Kick Attempt Good'].groupby('possessionTeam').nunique().reset_index()[['possessionTeam','playId']]\n",
    "fg_total_by_team = fg_train.groupby('possessionTeam').nunique().reset_index()[['possessionTeam','playId']]\n",
    "\n",
    "# PAT Plays\n",
    "pat_df_by_quarter = pat_train.groupby('quarter').nunique().reset_index()[['quarter','playId']]\n",
    "pat_df_by_down = pat_train.groupby('down').nunique().reset_index()[['down','playId']]\n",
    "\n",
    "pat_success_by_kicker = pat_train[pat_train.specialTeamsResult == 'Kick Attempt Good'].groupby('kickerId').nunique().reset_index()[['kickerId','playId']]\n",
    "pat_total_by_kicker = pat_train.groupby('kickerId').nunique().reset_index()[['kickerId','playId']]\n",
    "\n",
    "pat_success_by_team = pat_train[pat_train.specialTeamsResult == 'Kick Attempt Good'].groupby('possessionTeam').nunique().reset_index()[['possessionTeam','playId']]\n",
    "pat_total_by_team = pat_train.groupby('possessionTeam').nunique().reset_index()[['possessionTeam','playId']]\n"
   ]
  },
  {
   "cell_type": "markdown",
   "metadata": {},
   "source": [
    "#### Visualizations of Field Goal and Extra Point Attempts"
   ]
  },
  {
   "cell_type": "markdown",
   "metadata": {},
   "source": [
    "##### Field Goals"
   ]
  },
  {
   "cell_type": "code",
   "execution_count": 8,
   "metadata": {},
   "outputs": [
    {
     "data": {
      "image/png": "[encoded data removed]",
      "text/plain": [
       "<Figure size 1080x720 with 2 Axes>"
      ]
     },
     "metadata": {
      "needs_background": "light"
     },
     "output_type": "display_data"
    }
   ],
   "source": [
    "plt.figure(figsize=(15,10))\n",
    "\n",
    "# Field Goals per Quarter\n",
    "plt.subplot(1,2,1)\n",
    "plt.bar(fg_df_by_quarter.quarter, fg_df_by_quarter.playId)\n",
    "plt.title('Number of Field Goals per Quarter (2018-2020 Seasons)')\n",
    "plt.xlabel('Quarter')\n",
    "plt.ylabel('Number of Field Goals Attempted')\n",
    "plt.xlim(0, 6)\n",
    "\n",
    "\n",
    "# Field Goals per Down\n",
    "plt.subplot(1,2,2)\n",
    "plt.bar(fg_df_by_down.down, fg_df_by_down.playId)\n",
    "plt.title('Number of Field Goals per Down (2018-2020 Seasons)')\n",
    "plt.xlabel('Down')\n",
    "plt.ylabel('Number of Field Goals Attempted')\n",
    "plt.xlim(0, 5)\n",
    "plt.show()\n"
   ]
  },
  {
   "cell_type": "code",
   "execution_count": 9,
   "metadata": {},
   "outputs": [
    {
     "data": {
      "image/png": "[encoded data removed]",
      "text/plain": [
       "<Figure size 1080x720 with 2 Axes>"
      ]
     },
     "metadata": {
      "needs_background": "light"
     },
     "output_type": "display_data"
    }
   ],
   "source": [
    "# Eventually refactor to viewing FG completion percentage\n",
    "plt.figure(figsize=(15,10))\n",
    "\n",
    "plt.subplot(2,1,1)\n",
    "plt.bar(np.arange(len(fg_success_by_kicker.kickerId)), fg_success_by_kicker.playId)\n",
    "plt.title('Number of Successful Field Goals')\n",
    "plt.xlabel('Kicker ID')\n",
    "plt.ylabel('Number of Field Goals')\n",
    "plt.xlim(0, 60)\n",
    "\n",
    "\n",
    "plt.subplot(2,1,2)\n",
    "plt.bar(np.arange(len(fg_total_by_kicker.kickerId)), fg_total_by_kicker.playId)\n",
    "plt.title('Number of Attempted Field Goals')\n",
    "plt.xlabel('Kicker ID')\n",
    "plt.xlim(0, 60)\n",
    "plt.ylabel('Number of Field Goals')\n",
    "\n",
    "plt.suptitle('Field Goals by Kicker ID, 2018-2020 Seasons')\n",
    "plt.show()\n"
   ]
  },
  {
   "cell_type": "code",
   "execution_count": 10,
   "metadata": {},
   "outputs": [
    {
     "data": {
      "image/png": "[encoded data removed]",
      "text/plain": [
       "<Figure size 1080x360 with 1 Axes>"
      ]
     },
     "metadata": {
      "needs_background": "light"
     },
     "output_type": "display_data"
    }
   ],
   "source": [
    "# Eventually refactor to viewing FG completion percentage\n",
    "\n",
    "x = np.arange(len(fg_success_by_team.possessionTeam))\n",
    "width = 0.35  # the width of the bars\n",
    "\n",
    "fig, ax = plt.subplots(figsize=(15, 5))\n",
    "\n",
    "rects1 = ax.bar(x - width/2, fg_success_by_team.playId, width, label='Successful')\n",
    "rects2 = ax.bar(x + width/2, fg_total_by_team.playId, width, label='Attempted')\n",
    "\n",
    "ax.set_ylabel('Number of Field Goals')\n",
    "ax.set_xlabel('NFL Team')\n",
    "ax.set_title('Field Goals by Team, 2018-2020 Seasons')\n",
    "ax.set_xticks(x)\n",
    "\n",
    "ax.legend()\n",
    "\n",
    "plt.show()"
   ]
  },
  {
   "cell_type": "markdown",
   "metadata": {},
   "source": [
    "##### PATs"
   ]
  },
  {
   "cell_type": "code",
   "execution_count": 11,
   "metadata": {},
   "outputs": [
    {
     "data": {
      "image/png": "[encoded data removed]",
      "text/plain": [
       "<Figure size 1080x720 with 1 Axes>"
      ]
     },
     "metadata": {
      "needs_background": "light"
     },
     "output_type": "display_data"
    }
   ],
   "source": [
    "# PATs per Quarter\n",
    "plt.figure(figsize=(15,10))\n",
    "\n",
    "plt.bar(pat_df_by_quarter.quarter, pat_df_by_quarter.playId)\n",
    "plt.title('Number of PATs per Quarter (2018-2020 Seasons)')\n",
    "plt.xlabel('Quarter')\n",
    "plt.ylabel('Number of PATs Attempted')\n",
    "plt.xlim(0, 6)\n",
    "\n",
    "plt.show()"
   ]
  },
  {
   "cell_type": "code",
   "execution_count": 12,
   "metadata": {},
   "outputs": [
    {
     "data": {
      "image/png": "[encoded data removed]",
      "text/plain": [
       "<Figure size 1080x720 with 2 Axes>"
      ]
     },
     "metadata": {
      "needs_background": "light"
     },
     "output_type": "display_data"
    }
   ],
   "source": [
    "# Eventually refactor to viewing PAT completion percentage\n",
    "plt.figure(figsize=(15,10))\n",
    "\n",
    "plt.subplot(2,1,1)\n",
    "plt.bar(np.arange(len(pat_success_by_kicker.kickerId)), pat_success_by_kicker.playId)\n",
    "plt.title('Successful PATs')\n",
    "plt.xlabel('Kicker ID')\n",
    "plt.ylabel('Number of PATs')\n",
    "plt.xlim(0, 60)\n",
    "\n",
    "\n",
    "plt.subplot(2,1,2)\n",
    "plt.bar(np.arange(len(pat_total_by_kicker.kickerId)), pat_total_by_kicker.playId)\n",
    "plt.title('Attempted PATs')\n",
    "plt.xlabel('Kicker ID')\n",
    "plt.xlim(0, 60)\n",
    "plt.ylabel('Number of PATs')\n",
    "\n",
    "plt.suptitle('PATs by Kicker ID, 2018-2020 Seasons')\n",
    "plt.show()\n"
   ]
  },
  {
   "cell_type": "code",
   "execution_count": 13,
   "metadata": {},
   "outputs": [
    {
     "data": {
      "image/png": "[encoded data removed]",
      "text/plain": [
       "<Figure size 1080x360 with 1 Axes>"
      ]
     },
     "metadata": {
      "needs_background": "light"
     },
     "output_type": "display_data"
    }
   ],
   "source": [
    "# plt.figure(figsize=(15, 5))\n",
    "\n",
    "# plt.plot(pat_success_by_team.possessionTeam, pat_success_by_team.playId, label='Number of Successful PATs')\n",
    "# plt.xlabel('Team')\n",
    "# plt.ylabel('Number of PATs')\n",
    "\n",
    "# plt.plot(pat_total_by_team.possessionTeam, pat_total_by_team.playId, label='Number of Attempted PATs')\n",
    "# plt.xlabel('Team')\n",
    "# plt.ylabel('Number of PATs')\n",
    "\n",
    "# plt.legend()\n",
    "# plt.suptitle('PATs by Team, 2018-2020 Seasons')\n",
    "# plt.show()\n",
    "\n",
    "# Eventually refactor to viewing FG completion percentage\n",
    "\n",
    "x = np.arange(len(pat_success_by_team.possessionTeam))\n",
    "width = 0.35  # the width of the bars\n",
    "\n",
    "fig, ax = plt.subplots(figsize=(15, 5))\n",
    "\n",
    "rects1 = ax.bar(x - width/2, pat_success_by_team.playId, width, label='Successful')\n",
    "rects2 = ax.bar(x + width/2, pat_total_by_team.playId, width, label='Attempted')\n",
    "\n",
    "ax.set_ylabel('Number of PATs')\n",
    "ax.set_xlabel('NFL Team')\n",
    "ax.set_title('PATs by Team, 2018-2020 Seasons')\n",
    "ax.set_xticks(x)\n",
    "\n",
    "ax.legend()\n",
    "\n",
    "plt.show()"
   ]
  },
  {
   "cell_type": "markdown",
   "metadata": {},
   "source": [
    "### Overview of Tracking Data for NFL Seasons 2018-2020"
   ]
  },
  {
   "cell_type": "code",
   "execution_count": 14,
   "metadata": {},
   "outputs": [
    {
     "name": "stdout",
     "output_type": "stream",
     "text": [
      "Dataframe: 2018 Season\n"
     ]
    },
    {
     "data": {
      "text/html": [
       "<div>\n",
       "<style scoped>\n",
       "    .dataframe tbody tr th:only-of-type {\n",
       "        vertical-align: middle;\n",
       "    }\n",
       "\n",
       "    .dataframe tbody tr th {\n",
       "        vertical-align: top;\n",
       "    }\n",
       "\n",
       "    .dataframe thead th {\n",
       "        text-align: right;\n",
       "    }\n",
       "</style>\n",
       "<table border=\"1\" class=\"dataframe\">\n",
       "  <thead>\n",
       "    <tr style=\"text-align: right;\">\n",
       "      <th></th>\n",
       "      <th>time</th>\n",
       "      <th>x</th>\n",
       "      <th>y</th>\n",
       "      <th>s</th>\n",
       "      <th>a</th>\n",
       "      <th>dis</th>\n",
       "      <th>o</th>\n",
       "      <th>dir</th>\n",
       "      <th>event</th>\n",
       "      <th>nflId</th>\n",
       "      <th>displayName</th>\n",
       "      <th>jerseyNumber</th>\n",
       "      <th>position</th>\n",
       "      <th>team</th>\n",
       "      <th>frameId</th>\n",
       "      <th>gameId</th>\n",
       "      <th>playId</th>\n",
       "      <th>playDirection</th>\n",
       "    </tr>\n",
       "  </thead>\n",
       "  <tbody>\n",
       "    <tr>\n",
       "      <th>0</th>\n",
       "      <td>2018-12-30T21:25:32.200</td>\n",
       "      <td>41.32</td>\n",
       "      <td>29.45</td>\n",
       "      <td>4.36</td>\n",
       "      <td>1.33</td>\n",
       "      <td>0.43</td>\n",
       "      <td>130.42</td>\n",
       "      <td>128.44</td>\n",
       "      <td>None</td>\n",
       "      <td>39470.0</td>\n",
       "      <td>Justin Tucker</td>\n",
       "      <td>9.0</td>\n",
       "      <td>K</td>\n",
       "      <td>home</td>\n",
       "      <td>1</td>\n",
       "      <td>2018123000</td>\n",
       "      <td>36</td>\n",
       "      <td>right</td>\n",
       "    </tr>\n",
       "    <tr>\n",
       "      <th>1</th>\n",
       "      <td>2018-12-30T21:25:32.300</td>\n",
       "      <td>41.68</td>\n",
       "      <td>29.17</td>\n",
       "      <td>4.59</td>\n",
       "      <td>1.24</td>\n",
       "      <td>0.45</td>\n",
       "      <td>128.59</td>\n",
       "      <td>127.81</td>\n",
       "      <td>None</td>\n",
       "      <td>39470.0</td>\n",
       "      <td>Justin Tucker</td>\n",
       "      <td>9.0</td>\n",
       "      <td>K</td>\n",
       "      <td>home</td>\n",
       "      <td>2</td>\n",
       "      <td>2018123000</td>\n",
       "      <td>36</td>\n",
       "      <td>right</td>\n",
       "    </tr>\n",
       "    <tr>\n",
       "      <th>2</th>\n",
       "      <td>2018-12-30T21:25:32.400</td>\n",
       "      <td>42.05</td>\n",
       "      <td>28.88</td>\n",
       "      <td>4.74</td>\n",
       "      <td>0.99</td>\n",
       "      <td>0.47</td>\n",
       "      <td>124.47</td>\n",
       "      <td>128.15</td>\n",
       "      <td>None</td>\n",
       "      <td>39470.0</td>\n",
       "      <td>Justin Tucker</td>\n",
       "      <td>9.0</td>\n",
       "      <td>K</td>\n",
       "      <td>home</td>\n",
       "      <td>3</td>\n",
       "      <td>2018123000</td>\n",
       "      <td>36</td>\n",
       "      <td>right</td>\n",
       "    </tr>\n",
       "    <tr>\n",
       "      <th>3</th>\n",
       "      <td>2018-12-30T21:25:32.500</td>\n",
       "      <td>42.43</td>\n",
       "      <td>28.59</td>\n",
       "      <td>4.87</td>\n",
       "      <td>0.71</td>\n",
       "      <td>0.48</td>\n",
       "      <td>126.02</td>\n",
       "      <td>127.35</td>\n",
       "      <td>None</td>\n",
       "      <td>39470.0</td>\n",
       "      <td>Justin Tucker</td>\n",
       "      <td>9.0</td>\n",
       "      <td>K</td>\n",
       "      <td>home</td>\n",
       "      <td>4</td>\n",
       "      <td>2018123000</td>\n",
       "      <td>36</td>\n",
       "      <td>right</td>\n",
       "    </tr>\n",
       "    <tr>\n",
       "      <th>4</th>\n",
       "      <td>2018-12-30T21:25:32.600</td>\n",
       "      <td>42.84</td>\n",
       "      <td>28.31</td>\n",
       "      <td>4.96</td>\n",
       "      <td>0.79</td>\n",
       "      <td>0.50</td>\n",
       "      <td>131.71</td>\n",
       "      <td>124.75</td>\n",
       "      <td>None</td>\n",
       "      <td>39470.0</td>\n",
       "      <td>Justin Tucker</td>\n",
       "      <td>9.0</td>\n",
       "      <td>K</td>\n",
       "      <td>home</td>\n",
       "      <td>5</td>\n",
       "      <td>2018123000</td>\n",
       "      <td>36</td>\n",
       "      <td>right</td>\n",
       "    </tr>\n",
       "  </tbody>\n",
       "</table>\n",
       "</div>"
      ],
      "text/plain": [
       "                      time      x      y     s     a   dis       o     dir  \\\n",
       "0  2018-12-30T21:25:32.200  41.32  29.45  4.36  1.33  0.43  130.42  128.44   \n",
       "1  2018-12-30T21:25:32.300  41.68  29.17  4.59  1.24  0.45  128.59  127.81   \n",
       "2  2018-12-30T21:25:32.400  42.05  28.88  4.74  0.99  0.47  124.47  128.15   \n",
       "3  2018-12-30T21:25:32.500  42.43  28.59  4.87  0.71  0.48  126.02  127.35   \n",
       "4  2018-12-30T21:25:32.600  42.84  28.31  4.96  0.79  0.50  131.71  124.75   \n",
       "\n",
       "  event    nflId    displayName  jerseyNumber position  team  frameId  \\\n",
       "0  None  39470.0  Justin Tucker           9.0        K  home        1   \n",
       "1  None  39470.0  Justin Tucker           9.0        K  home        2   \n",
       "2  None  39470.0  Justin Tucker           9.0        K  home        3   \n",
       "3  None  39470.0  Justin Tucker           9.0        K  home        4   \n",
       "4  None  39470.0  Justin Tucker           9.0        K  home        5   \n",
       "\n",
       "       gameId  playId playDirection  \n",
       "0  2018123000      36         right  \n",
       "1  2018123000      36         right  \n",
       "2  2018123000      36         right  \n",
       "3  2018123000      36         right  \n",
       "4  2018123000      36         right  "
      ]
     },
     "execution_count": 14,
     "metadata": {},
     "output_type": "execute_result"
    }
   ],
   "source": [
    "print('Dataframe: 2018 Season')\n",
    "tracking_2018_df.head()"
   ]
  },
  {
   "cell_type": "code",
   "execution_count": 15,
   "metadata": {},
   "outputs": [
    {
     "name": "stdout",
     "output_type": "stream",
     "text": [
      "Dataframe: 2019 Season\n"
     ]
    },
    {
     "data": {
      "text/html": [
       "<div>\n",
       "<style scoped>\n",
       "    .dataframe tbody tr th:only-of-type {\n",
       "        vertical-align: middle;\n",
       "    }\n",
       "\n",
       "    .dataframe tbody tr th {\n",
       "        vertical-align: top;\n",
       "    }\n",
       "\n",
       "    .dataframe thead th {\n",
       "        text-align: right;\n",
       "    }\n",
       "</style>\n",
       "<table border=\"1\" class=\"dataframe\">\n",
       "  <thead>\n",
       "    <tr style=\"text-align: right;\">\n",
       "      <th></th>\n",
       "      <th>time</th>\n",
       "      <th>x</th>\n",
       "      <th>y</th>\n",
       "      <th>s</th>\n",
       "      <th>a</th>\n",
       "      <th>dis</th>\n",
       "      <th>o</th>\n",
       "      <th>dir</th>\n",
       "      <th>event</th>\n",
       "      <th>nflId</th>\n",
       "      <th>displayName</th>\n",
       "      <th>jerseyNumber</th>\n",
       "      <th>position</th>\n",
       "      <th>team</th>\n",
       "      <th>frameId</th>\n",
       "      <th>gameId</th>\n",
       "      <th>playId</th>\n",
       "      <th>playDirection</th>\n",
       "    </tr>\n",
       "  </thead>\n",
       "  <tbody>\n",
       "    <tr>\n",
       "      <th>0</th>\n",
       "      <td>2019-12-29T21:25:27.400</td>\n",
       "      <td>68.39</td>\n",
       "      <td>20.20</td>\n",
       "      <td>0.16</td>\n",
       "      <td>0.31</td>\n",
       "      <td>0.02</td>\n",
       "      <td>320.08</td>\n",
       "      <td>322.40</td>\n",
       "      <td>None</td>\n",
       "      <td>36060.0</td>\n",
       "      <td>Anthony Levine</td>\n",
       "      <td>41.0</td>\n",
       "      <td>DB</td>\n",
       "      <td>home</td>\n",
       "      <td>1</td>\n",
       "      <td>2019122900</td>\n",
       "      <td>36</td>\n",
       "      <td>right</td>\n",
       "    </tr>\n",
       "    <tr>\n",
       "      <th>1</th>\n",
       "      <td>2019-12-29T21:25:27.500</td>\n",
       "      <td>68.38</td>\n",
       "      <td>20.21</td>\n",
       "      <td>0.16</td>\n",
       "      <td>0.28</td>\n",
       "      <td>0.02</td>\n",
       "      <td>321.66</td>\n",
       "      <td>309.87</td>\n",
       "      <td>None</td>\n",
       "      <td>36060.0</td>\n",
       "      <td>Anthony Levine</td>\n",
       "      <td>41.0</td>\n",
       "      <td>DB</td>\n",
       "      <td>home</td>\n",
       "      <td>2</td>\n",
       "      <td>2019122900</td>\n",
       "      <td>36</td>\n",
       "      <td>right</td>\n",
       "    </tr>\n",
       "    <tr>\n",
       "      <th>2</th>\n",
       "      <td>2019-12-29T21:25:27.600</td>\n",
       "      <td>68.36</td>\n",
       "      <td>20.23</td>\n",
       "      <td>0.20</td>\n",
       "      <td>0.25</td>\n",
       "      <td>0.02</td>\n",
       "      <td>320.67</td>\n",
       "      <td>301.01</td>\n",
       "      <td>None</td>\n",
       "      <td>36060.0</td>\n",
       "      <td>Anthony Levine</td>\n",
       "      <td>41.0</td>\n",
       "      <td>DB</td>\n",
       "      <td>home</td>\n",
       "      <td>3</td>\n",
       "      <td>2019122900</td>\n",
       "      <td>36</td>\n",
       "      <td>right</td>\n",
       "    </tr>\n",
       "    <tr>\n",
       "      <th>3</th>\n",
       "      <td>2019-12-29T21:25:27.700</td>\n",
       "      <td>68.34</td>\n",
       "      <td>20.25</td>\n",
       "      <td>0.27</td>\n",
       "      <td>0.20</td>\n",
       "      <td>0.03</td>\n",
       "      <td>303.02</td>\n",
       "      <td>311.86</td>\n",
       "      <td>None</td>\n",
       "      <td>36060.0</td>\n",
       "      <td>Anthony Levine</td>\n",
       "      <td>41.0</td>\n",
       "      <td>DB</td>\n",
       "      <td>home</td>\n",
       "      <td>4</td>\n",
       "      <td>2019122900</td>\n",
       "      <td>36</td>\n",
       "      <td>right</td>\n",
       "    </tr>\n",
       "    <tr>\n",
       "      <th>4</th>\n",
       "      <td>2019-12-29T21:25:27.800</td>\n",
       "      <td>68.33</td>\n",
       "      <td>20.26</td>\n",
       "      <td>0.20</td>\n",
       "      <td>0.06</td>\n",
       "      <td>0.01</td>\n",
       "      <td>297.33</td>\n",
       "      <td>308.72</td>\n",
       "      <td>None</td>\n",
       "      <td>36060.0</td>\n",
       "      <td>Anthony Levine</td>\n",
       "      <td>41.0</td>\n",
       "      <td>DB</td>\n",
       "      <td>home</td>\n",
       "      <td>5</td>\n",
       "      <td>2019122900</td>\n",
       "      <td>36</td>\n",
       "      <td>right</td>\n",
       "    </tr>\n",
       "  </tbody>\n",
       "</table>\n",
       "</div>"
      ],
      "text/plain": [
       "                      time      x      y     s     a   dis       o     dir  \\\n",
       "0  2019-12-29T21:25:27.400  68.39  20.20  0.16  0.31  0.02  320.08  322.40   \n",
       "1  2019-12-29T21:25:27.500  68.38  20.21  0.16  0.28  0.02  321.66  309.87   \n",
       "2  2019-12-29T21:25:27.600  68.36  20.23  0.20  0.25  0.02  320.67  301.01   \n",
       "3  2019-12-29T21:25:27.700  68.34  20.25  0.27  0.20  0.03  303.02  311.86   \n",
       "4  2019-12-29T21:25:27.800  68.33  20.26  0.20  0.06  0.01  297.33  308.72   \n",
       "\n",
       "  event    nflId     displayName  jerseyNumber position  team  frameId  \\\n",
       "0  None  36060.0  Anthony Levine          41.0       DB  home        1   \n",
       "1  None  36060.0  Anthony Levine          41.0       DB  home        2   \n",
       "2  None  36060.0  Anthony Levine          41.0       DB  home        3   \n",
       "3  None  36060.0  Anthony Levine          41.0       DB  home        4   \n",
       "4  None  36060.0  Anthony Levine          41.0       DB  home        5   \n",
       "\n",
       "       gameId  playId playDirection  \n",
       "0  2019122900      36         right  \n",
       "1  2019122900      36         right  \n",
       "2  2019122900      36         right  \n",
       "3  2019122900      36         right  \n",
       "4  2019122900      36         right  "
      ]
     },
     "execution_count": 15,
     "metadata": {},
     "output_type": "execute_result"
    }
   ],
   "source": [
    "print('Dataframe: 2019 Season')\n",
    "tracking_2019_df.head()"
   ]
  },
  {
   "cell_type": "code",
   "execution_count": 16,
   "metadata": {},
   "outputs": [
    {
     "name": "stdout",
     "output_type": "stream",
     "text": [
      "Dataframe: 2020 Season\n"
     ]
    },
    {
     "data": {
      "text/html": [
       "<div>\n",
       "<style scoped>\n",
       "    .dataframe tbody tr th:only-of-type {\n",
       "        vertical-align: middle;\n",
       "    }\n",
       "\n",
       "    .dataframe tbody tr th {\n",
       "        vertical-align: top;\n",
       "    }\n",
       "\n",
       "    .dataframe thead th {\n",
       "        text-align: right;\n",
       "    }\n",
       "</style>\n",
       "<table border=\"1\" class=\"dataframe\">\n",
       "  <thead>\n",
       "    <tr style=\"text-align: right;\">\n",
       "      <th></th>\n",
       "      <th>time</th>\n",
       "      <th>x</th>\n",
       "      <th>y</th>\n",
       "      <th>s</th>\n",
       "      <th>a</th>\n",
       "      <th>dis</th>\n",
       "      <th>o</th>\n",
       "      <th>dir</th>\n",
       "      <th>event</th>\n",
       "      <th>nflId</th>\n",
       "      <th>displayName</th>\n",
       "      <th>jerseyNumber</th>\n",
       "      <th>position</th>\n",
       "      <th>team</th>\n",
       "      <th>frameId</th>\n",
       "      <th>gameId</th>\n",
       "      <th>playId</th>\n",
       "      <th>playDirection</th>\n",
       "    </tr>\n",
       "  </thead>\n",
       "  <tbody>\n",
       "    <tr>\n",
       "      <th>0</th>\n",
       "      <td>2021-01-03T18:03:02.200</td>\n",
       "      <td>61.21</td>\n",
       "      <td>46.77</td>\n",
       "      <td>0.08</td>\n",
       "      <td>0.13</td>\n",
       "      <td>0.01</td>\n",
       "      <td>186.21</td>\n",
       "      <td>144.73</td>\n",
       "      <td>None</td>\n",
       "      <td>42901.0</td>\n",
       "      <td>Dean Marlowe</td>\n",
       "      <td>31.0</td>\n",
       "      <td>SS</td>\n",
       "      <td>home</td>\n",
       "      <td>1</td>\n",
       "      <td>2021010300</td>\n",
       "      <td>40</td>\n",
       "      <td>left</td>\n",
       "    </tr>\n",
       "    <tr>\n",
       "      <th>1</th>\n",
       "      <td>2021-01-03T18:03:02.300</td>\n",
       "      <td>61.22</td>\n",
       "      <td>46.77</td>\n",
       "      <td>0.11</td>\n",
       "      <td>0.19</td>\n",
       "      <td>0.01</td>\n",
       "      <td>184.87</td>\n",
       "      <td>126.09</td>\n",
       "      <td>None</td>\n",
       "      <td>42901.0</td>\n",
       "      <td>Dean Marlowe</td>\n",
       "      <td>31.0</td>\n",
       "      <td>SS</td>\n",
       "      <td>home</td>\n",
       "      <td>2</td>\n",
       "      <td>2021010300</td>\n",
       "      <td>40</td>\n",
       "      <td>left</td>\n",
       "    </tr>\n",
       "    <tr>\n",
       "      <th>2</th>\n",
       "      <td>2021-01-03T18:03:02.400</td>\n",
       "      <td>61.23</td>\n",
       "      <td>46.76</td>\n",
       "      <td>0.10</td>\n",
       "      <td>0.18</td>\n",
       "      <td>0.01</td>\n",
       "      <td>183.38</td>\n",
       "      <td>108.95</td>\n",
       "      <td>None</td>\n",
       "      <td>42901.0</td>\n",
       "      <td>Dean Marlowe</td>\n",
       "      <td>31.0</td>\n",
       "      <td>SS</td>\n",
       "      <td>home</td>\n",
       "      <td>3</td>\n",
       "      <td>2021010300</td>\n",
       "      <td>40</td>\n",
       "      <td>left</td>\n",
       "    </tr>\n",
       "    <tr>\n",
       "      <th>3</th>\n",
       "      <td>2021-01-03T18:03:02.500</td>\n",
       "      <td>61.24</td>\n",
       "      <td>46.76</td>\n",
       "      <td>0.11</td>\n",
       "      <td>0.22</td>\n",
       "      <td>0.01</td>\n",
       "      <td>180.24</td>\n",
       "      <td>91.57</td>\n",
       "      <td>None</td>\n",
       "      <td>42901.0</td>\n",
       "      <td>Dean Marlowe</td>\n",
       "      <td>31.0</td>\n",
       "      <td>SS</td>\n",
       "      <td>home</td>\n",
       "      <td>4</td>\n",
       "      <td>2021010300</td>\n",
       "      <td>40</td>\n",
       "      <td>left</td>\n",
       "    </tr>\n",
       "    <tr>\n",
       "      <th>4</th>\n",
       "      <td>2021-01-03T18:03:02.600</td>\n",
       "      <td>61.25</td>\n",
       "      <td>46.76</td>\n",
       "      <td>0.05</td>\n",
       "      <td>0.20</td>\n",
       "      <td>0.01</td>\n",
       "      <td>172.44</td>\n",
       "      <td>119.91</td>\n",
       "      <td>None</td>\n",
       "      <td>42901.0</td>\n",
       "      <td>Dean Marlowe</td>\n",
       "      <td>31.0</td>\n",
       "      <td>SS</td>\n",
       "      <td>home</td>\n",
       "      <td>5</td>\n",
       "      <td>2021010300</td>\n",
       "      <td>40</td>\n",
       "      <td>left</td>\n",
       "    </tr>\n",
       "  </tbody>\n",
       "</table>\n",
       "</div>"
      ],
      "text/plain": [
       "                      time      x      y     s     a   dis       o     dir  \\\n",
       "0  2021-01-03T18:03:02.200  61.21  46.77  0.08  0.13  0.01  186.21  144.73   \n",
       "1  2021-01-03T18:03:02.300  61.22  46.77  0.11  0.19  0.01  184.87  126.09   \n",
       "2  2021-01-03T18:03:02.400  61.23  46.76  0.10  0.18  0.01  183.38  108.95   \n",
       "3  2021-01-03T18:03:02.500  61.24  46.76  0.11  0.22  0.01  180.24   91.57   \n",
       "4  2021-01-03T18:03:02.600  61.25  46.76  0.05  0.20  0.01  172.44  119.91   \n",
       "\n",
       "  event    nflId   displayName  jerseyNumber position  team  frameId  \\\n",
       "0  None  42901.0  Dean Marlowe          31.0       SS  home        1   \n",
       "1  None  42901.0  Dean Marlowe          31.0       SS  home        2   \n",
       "2  None  42901.0  Dean Marlowe          31.0       SS  home        3   \n",
       "3  None  42901.0  Dean Marlowe          31.0       SS  home        4   \n",
       "4  None  42901.0  Dean Marlowe          31.0       SS  home        5   \n",
       "\n",
       "       gameId  playId playDirection  \n",
       "0  2021010300      40          left  \n",
       "1  2021010300      40          left  \n",
       "2  2021010300      40          left  \n",
       "3  2021010300      40          left  \n",
       "4  2021010300      40          left  "
      ]
     },
     "execution_count": 16,
     "metadata": {},
     "output_type": "execute_result"
    }
   ],
   "source": [
    "print('Dataframe: 2020 Season')\n",
    "tracking_2020_df.head()"
   ]
  },
  {
   "cell_type": "markdown",
   "metadata": {},
   "source": [
    "## Wrangle Data"
   ]
  },
  {
   "cell_type": "code",
   "execution_count": 17,
   "metadata": {
    "scrolled": true
   },
   "outputs": [
    {
     "data": {
      "text/plain": [
       "array(['Kick Attempt Good', 'Kick Attempt No Good',\n",
       "       'Blocked Kick Attempt', 'Non-Special Teams Result', 'Downed',\n",
       "       'Out of Bounds'], dtype=object)"
      ]
     },
     "execution_count": 17,
     "metadata": {},
     "output_type": "execute_result"
    }
   ],
   "source": [
    "# fg_df has 2657 records\n",
    "\n",
    "# The predicted responses should follow the categories found in `specialTeamsResult`. \n",
    "# Ultimately, this notebook will attempt to predict scenarios where `specialTeamsResult` will be `Kick Attempt Good`.\n",
    "\n",
    "fg_train.specialTeamsResult.unique()"
   ]
  },
  {
   "cell_type": "code",
   "execution_count": 18,
   "metadata": {},
   "outputs": [],
   "source": [
    "# Combining season tracking data for holistic view of potential features that impact the success of the FG/PAT\n",
    "\n",
    "season_tracking_df = pd.concat([tracking_2018_df, tracking_2019_df, tracking_2020_df])"
   ]
  },
  {
   "cell_type": "code",
   "execution_count": 19,
   "metadata": {},
   "outputs": [],
   "source": [
    "# Reducing the season tracking data to the initial position for Field Goal plays\n",
    "fg_initial_position = season_tracking_df[season_tracking_df.gameId.isin(fg_df.gameId) & \n",
    "                                         (season_tracking_df.frameId == 1) & \n",
    "                                         (season_tracking_df.position == 'K')]\n",
    "\n",
    "# Reducing the season tracking data to the initial position for PAT plays\n",
    "pat_initial_position = season_tracking_df[season_tracking_df.gameId.isin(pat_df.gameId) & \n",
    "                                         (season_tracking_df.frameId == 1) & \n",
    "                                         (season_tracking_df.position == 'K')]"
   ]
  },
  {
   "cell_type": "code",
   "execution_count": 20,
   "metadata": {},
   "outputs": [],
   "source": [
    "fg_num_feats = ['yardsToGo', 'kickLength', 'preSnapHomeScore', 'preSnapVisitorScore', 'playResult', 'absoluteYardlineNumber']\n",
    "\n",
    "fg_cat_feats = ['quarter', 'down', 'kickerId']"
   ]
  },
  {
   "cell_type": "code",
   "execution_count": 21,
   "metadata": {},
   "outputs": [
    {
     "data": {
      "text/plain": [
       "array(['Kick Attempt Good', 'Kick Attempt No Good',\n",
       "       'Non-Special Teams Result', 'Blocked Kick Attempt'], dtype=object)"
      ]
     },
     "execution_count": 21,
     "metadata": {},
     "output_type": "execute_result"
    }
   ],
   "source": [
    "# pat_df has 3488 records\n",
    "\n",
    "# The predicted responses should follow the categories found in `specialTeamsResult`. \n",
    "# Ultimately, this notebook will attempt to predict scenarios where `specialTeamsResult` will be `Kick Attempt Good`.\n",
    "\n",
    "pat_train.specialTeamsResult.unique()"
   ]
  },
  {
   "cell_type": "markdown",
   "metadata": {},
   "source": [
    "### Feature Engineering"
   ]
  },
  {
   "cell_type": "code",
   "execution_count": 22,
   "metadata": {},
   "outputs": [],
   "source": [
    "from sklearn.pipeline import Pipeline\n",
    "from sklearn.preprocessing import StandardScaler, OneHotEncoder\n",
    "from sklearn.impute import SimpleImputer\n",
    "from sklearn.compose import ColumnTransformer\n",
    "\n",
    "num_pipeline = Pipeline([\n",
    "    ('imputer', SimpleImputer(strategy = 'mean')),\n",
    "    ('std_scaler', StandardScaler())\n",
    "])\n",
    "\n",
    "full_pipeline = ColumnTransformer([\n",
    "    ('num', num_pipeline, fg_num_feats),\n",
    "])\n",
    "\n",
    "features = ['yardsToGo', 'kickLength', 'preSnapHomeScore', 'preSnapVisitorScore', 'playResult', 'absoluteYardlineNumber', 'quarter', 'down', 'kickerId']"
   ]
  },
  {
   "cell_type": "code",
   "execution_count": 23,
   "metadata": {},
   "outputs": [
    {
     "data": {
      "text/plain": [
       "array([[-0.13686735,  0.00512985, -0.46012882,  0.63844149,  0.32279586,\n",
       "         0.93295302],\n",
       "       [ 1.74628957, -0.39394396,  1.1170952 ,  0.53319027, -1.559073  ,\n",
       "         1.05942184],\n",
       "       [ 1.53704991,  0.        , -0.46012882, -0.41407066, -1.559073  ,\n",
       "        -1.12216525],\n",
       "       ...,\n",
       "       [ 0.49085162,  1.00281439,  1.22224347,  0.95419513,  0.32279586,\n",
       "         0.61678098],\n",
       "       [ 0.28161196,  1.30211976,  0.06561252,  0.21743663,  0.32279586,\n",
       "         0.52192937],\n",
       "       [ 0.07237231,  0.00512985, -1.1961667 , -1.15082916,  0.32279586,\n",
       "         0.93295302]])"
      ]
     },
     "execution_count": 23,
     "metadata": {},
     "output_type": "execute_result"
    }
   ],
   "source": [
    "fg_prepared = fg_train[features]\n",
    "fg_features = full_pipeline.fit_transform(fg_prepared)\n",
    "fg_features"
   ]
  },
  {
   "cell_type": "markdown",
   "metadata": {},
   "source": [
    "### Response Engineering"
   ]
  },
  {
   "cell_type": "code",
   "execution_count": 24,
   "metadata": {},
   "outputs": [],
   "source": [
    "# fg_df\n",
    "fg_labels = pd.get_dummies(fg_train, columns=['specialTeamsResult']).rename(columns={'specialTeamsResult_Kick Attempt Good': 'fg_attempt_good'})\n",
    "fg_response = fg_labels.fg_attempt_good\n",
    "\n",
    "# pat_df\n",
    "pat_labels = pd.get_dummies(pat_train, columns=['specialTeamsResult']).rename(columns={'specialTeamsResult_Kick Attempt Good': 'pat_attempt_good'})\n",
    "pat_response = pat_labels.pat_attempt_good"
   ]
  },
  {
   "cell_type": "markdown",
   "metadata": {},
   "source": [
    "## Model Data"
   ]
  },
  {
   "cell_type": "code",
   "execution_count": 25,
   "metadata": {},
   "outputs": [
    {
     "data": {
      "text/plain": [
       "LogisticRegression(random_state=42)"
      ]
     },
     "execution_count": 25,
     "metadata": {},
     "output_type": "execute_result"
    }
   ],
   "source": [
    "from sklearn.linear_model import LogisticRegression\n",
    "\n",
    "log_reg = LogisticRegression(solver='lbfgs', random_state=42)\n",
    "log_reg.fit(fg_features, fg_response)"
   ]
  },
  {
   "cell_type": "code",
   "execution_count": 26,
   "metadata": {},
   "outputs": [
    {
     "data": {
      "text/plain": [
       "array([[-0.07448517, -0.52870447, -0.0215567 ,  0.06549723,  3.40895775,\n",
       "        -0.14468286]])"
      ]
     },
     "execution_count": 26,
     "metadata": {},
     "output_type": "execute_result"
    }
   ],
   "source": [
    "log_reg.coef_"
   ]
  },
  {
   "cell_type": "code",
   "execution_count": 27,
   "metadata": {},
   "outputs": [
    {
     "data": {
      "text/plain": [
       "array([2.88309073])"
      ]
     },
     "execution_count": 27,
     "metadata": {},
     "output_type": "execute_result"
    }
   ],
   "source": [
    "log_reg.intercept_"
   ]
  },
  {
   "cell_type": "code",
   "execution_count": 28,
   "metadata": {},
   "outputs": [
    {
     "name": "stdout",
     "output_type": "stream",
     "text": [
      "Predictions: [1 1 0 1 0 1 1 1 1 1 1 1 1 1 0 0 1 1 1 1 1 1 1 1 1 1 1 0 0 1 1 1 0 1 1 1 1\n",
      " 1 1 1 1 1 1 1 1 1 1 1 1 1 1 1 1 1 1 1 1 1 1 1 1 1 1 1 1 1 1 1 0 1 1 1 1 1\n",
      " 1 0 1 1 1 1 1 1 1 1 0 0 0 1 1 1 1 1 1 1 1 1 0 0 1 1 1 1 0 1 1 0 1 1 0 0 1\n",
      " 1 1 1 1 1 0 1 1 1 0 1 1 1 1 1 1 1 1 1 1 1 0 1 1 1 1 1 1 0 1 1 1 1 1 1 1 1\n",
      " 1 1 1 0 1 1 1 1 0 1 1 0 0 1 1 1 1 1 1 1 1 0 1 1 1 1 1 1 1 1 1 1 1 1 1 1 0\n",
      " 0 0 1 1 1 1 1 1 1 0 0 1 1 1 1 1 1 0 1 1 1 0 1 0 1 1 1 1 1 1 1 1 1 1 1 1 1\n",
      " 1 1 1 1 1 1 0 1 1 1 1 1 1 1 1 1 1 1 1 1 0 1 1 1 1 1 1 1 0 1 1 0 1 0 1 1 1\n",
      " 1 1 0 1 1 1 1 0 1 1 1 0 1 1 1 1 1 1 1 1 1 1 1 1 1 1 1 1 1 1 1 1 0 1 1 1 1\n",
      " 1 1 1 1 1 1 1 1 1 1 0 1 1 1 1 1 1 1 0 0 1 1 1 1 1 1 1 1 1 0 1 0 1 1 1 0 1\n",
      " 1 1 1 0 0 1 1 1 0 1 1 1 1 1 1 0 1 1 1 1 1 1 1 1 1 1 1 1 1 1 1 1 1 1 1 1 0\n",
      " 0 1 1 1 1 1 1 1 1 1 1 0 1 0 1 1 1 1 1 1 1 1 1 1 1 1 1 1 1 0 1 1 1 1 1 1 1\n",
      " 1 1 1 1 1 1 0 1 1 0 1 1 1 1 1 1 1 0 1 1 1 0 1 1 1 0 1 1 1 1 1 1 1 1 0 1 1\n",
      " 1 1 0 0 1 1 1 1 1 1 1 1 1 1 1 1 1 1 1 0 1 1 1 1 1 1 1 0 1 1 1 1 0 1 1 1 1\n",
      " 0 1 1 0 1 1 0 1 1 1 1 1 1 0 1 1 1 1 0 1 1 1 1 0 1 0 1 1 0 1 1 1 1 0 1 1 1\n",
      " 1 0 1 0 1 1 1 1 1 1 1 1 1 1]\n"
     ]
    }
   ],
   "source": [
    "fg_prepared_preds = fg_test[features]\n",
    "fg_predict = full_pipeline.transform(fg_prepared_preds)\n",
    "\n",
    "print('Predictions:', log_reg.predict(fg_predict))"
   ]
  },
  {
   "cell_type": "code",
   "execution_count": 29,
   "metadata": {},
   "outputs": [
    {
     "name": "stdout",
     "output_type": "stream",
     "text": [
      "Labels: [1, 1, 0, 1, 0, 1, 1, 1, 1, 1, 1, 1, 1, 1, 0, 0, 1, 1, 1, 1, 1, 1, 1, 1, 1, 1, 1, 0, 0, 1, 1, 1, 0, 1, 1, 1, 1, 1, 1, 1, 1, 1, 1, 1, 1, 1, 1, 1, 1, 1, 1, 1, 1, 1, 1, 1, 1, 1, 1, 1, 1, 1, 1, 1, 1, 1, 1, 1, 0, 1, 1, 1, 1, 1, 1, 0, 1, 1, 1, 1, 1, 1, 1, 1, 0, 0, 0, 1, 1, 0, 1, 1, 1, 1, 1, 1, 0, 0, 1, 1, 1, 1, 0, 1, 1, 0, 1, 1, 0, 0, 1, 1, 1, 1, 1, 1, 0, 1, 1, 1, 0, 1, 1, 1, 1, 1, 1, 1, 1, 1, 1, 1, 0, 1, 1, 1, 1, 1, 1, 0, 1, 1, 1, 1, 1, 1, 1, 1, 1, 1, 1, 0, 1, 1, 1, 1, 0, 1, 1, 0, 0, 1, 1, 1, 1, 1, 1, 1, 1, 0, 1, 1, 1, 1, 1, 1, 1, 1, 1, 1, 1, 1, 1, 1, 0, 0, 0, 1, 1, 1, 1, 1, 0, 1, 0, 0, 1, 1, 1, 1, 1, 1, 0, 1, 1, 1, 0, 1, 0, 1, 1, 0, 1, 1, 1, 1, 1, 1, 1, 1, 1, 1, 1, 1, 1, 1, 1, 1, 0, 1, 1, 1, 1, 1, 1, 1, 1, 1, 1, 1, 1, 1, 0, 1, 1, 1, 1, 1, 1, 1, 0, 1, 1, 0, 1, 0, 1, 1, 1, 1, 1, 0, 1, 1, 1, 0, 0, 0, 1, 1, 0, 1, 1, 1, 1, 1, 1, 1, 1, 1, 1, 1, 1, 1, 1, 1, 1, 1, 1, 1, 1, 0, 1, 1, 1, 1, 1, 1, 1, 1, 1, 1, 1, 1, 1, 1, 0, 1, 1, 1, 1, 1, 1, 1, 0, 0, 1, 1, 1, 1, 1, 1, 1, 1, 1, 0, 1, 0, 1, 1, 1, 0, 1, 1, 1, 1, 0, 0, 1, 1, 1, 0, 1, 1, 1, 1, 1, 1, 0, 1, 1, 1, 1, 1, 1, 1, 1, 1, 1, 1, 1, 1, 1, 1, 1, 1, 1, 1, 1, 0, 0, 1, 1, 1, 1, 1, 1, 1, 1, 1, 1, 0, 1, 0, 1, 1, 1, 1, 1, 1, 1, 1, 1, 1, 1, 1, 1, 1, 1, 0, 1, 1, 1, 1, 1, 1, 1, 1, 1, 1, 1, 1, 1, 0, 1, 1, 0, 1, 1, 1, 1, 1, 1, 1, 0, 1, 1, 1, 0, 1, 1, 1, 0, 1, 1, 1, 1, 1, 1, 1, 1, 0, 1, 1, 1, 1, 0, 0, 1, 1, 1, 1, 1, 1, 1, 1, 1, 1, 1, 1, 1, 1, 1, 0, 1, 1, 1, 1, 1, 1, 1, 0, 1, 1, 1, 1, 0, 1, 1, 1, 1, 0, 1, 1, 0, 1, 1, 0, 1, 1, 1, 1, 1, 1, 0, 1, 1, 1, 1, 0, 1, 1, 1, 1, 0, 1, 0, 1, 1, 0, 1, 1, 1, 1, 0, 1, 1, 1, 1, 0, 0, 0, 1, 1, 1, 1, 1, 1, 1, 1, 1, 1]\n"
     ]
    }
   ],
   "source": [
    "fg_labels = pd.get_dummies(fg_test, columns=['specialTeamsResult']).rename(columns={'specialTeamsResult_Kick Attempt Good': 'fg_attempt_good'})\n",
    "fg_labels = fg_labels.fg_attempt_good\n",
    "print('Labels:', list(fg_labels))"
   ]
  },
  {
   "cell_type": "code",
   "execution_count": 30,
   "metadata": {},
   "outputs": [
    {
     "name": "stdout",
     "output_type": "stream",
     "text": [
      "accuracy score:  0.9887218045112782\n"
     ]
    }
   ],
   "source": [
    "from sklearn.metrics import accuracy_score\n",
    "\n",
    "print(\"accuracy score: \", accuracy_score(fg_labels, log_reg.predict(fg_predict)))"
   ]
  },
  {
   "cell_type": "markdown",
   "metadata": {},
   "source": [
    "## Solution"
   ]
  },
  {
   "cell_type": "markdown",
   "metadata": {},
   "source": [
    "This is the solution, tbd."
   ]
  }
 ],
 "metadata": {
  "interpreter": {
   "hash": "89879450a8b782232bf246dbf054832d797e2a3b680d34418effd5abddb34158"
  },
  "kernelspec": {
   "display_name": "Python 3",
   "language": "python",
   "name": "python3"
  },
  "language_info": {
   "codemirror_mode": {
    "name": "ipython",
    "version": 3
   },
   "file_extension": ".py",
   "mimetype": "text/x-python",
   "name": "python",
   "nbconvert_exporter": "python",
   "pygments_lexer": "ipython3",
   "version": "3.8.5"
  }
 },
 "nbformat": 4,
 "nbformat_minor": 2
}
