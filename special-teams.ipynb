{
 "cells": [
  {
   "cell_type": "markdown",
   "metadata": {},
   "source": [
    "# NFL Big Data Bowl 2022 Notebook\n",
    "### Author: Conrad Bituin"
   ]
  },
  {
   "cell_type": "markdown",
   "metadata": {},
   "source": [
    "## Documentation from Competition Site:\n",
    "[Kaggle Competition Page](https://www.kaggle.com/c/nfl-big-data-bowl-2022/overview/evaluation)\n",
    "\n",
    "### Overview\n",
    "Your challenge is to generate actionable, practical, and novel insights from player tracking data that corresponds to special teams play. There are several potential topics for participants to analyze.\n",
    "\n",
    "These include, but are not limited to:\n",
    "\n",
    "Create a new special teams metric. The winning algorithm from the 2020 Big Data Bowl has been adopted by the NFL/NFL Network for on air distribution, and we are hopeful that there could be a new stat for special teams plays that could come from this year’s competition\n",
    "Quantify special teams strategy. Special teams’ coaches are among the most creative and innovative in the league. Compare/contrast how each team game plans. Which strategies yield the best results? What are other strategies that could be adopted?\n",
    "Rank special teams players. Each team employs a variety of players (including longsnappers, kickers, punters, and other utility special teams players). How do they stack up with respect to one another?\n",
    "The above list is not comprehensive, nor is it meant to be a guide for participants to cover. We are open to all special teams related ideas in this year’s competition.\n",
    "\n",
    "Submissions that examine one idea more thoroughly are preferred versus those that examine several ideas somewhat thoroughly."
   ]
  },
  {
   "cell_type": "markdown",
   "metadata": {},
   "source": [
    "### Notebook requirements\n",
    "Notebooks should consist of no more than 2,000 words and no more than 10 tables/figures. Submissions will not be penalized for any number of words or figures under this limit. Participants are encouraged to show statistical code if it helps readers better understand their analyses; most, if not all code, however, should be hidden in the Appendix.\n",
    "\n",
    "All notebooks submitted must be made public on or before the submission deadline to be eligible. If submitting as a team, all team members must be listed as collaborators on all notebooks submitted.\n",
    "\n",
    "Any notebook that does not use the player tracking data will not be scored."
   ]
  },
  {
   "cell_type": "code",
   "execution_count": null,
   "metadata": {},
   "outputs": [],
   "source": []
  }
 ],
 "metadata": {
  "interpreter": {
   "hash": "89879450a8b782232bf246dbf054832d797e2a3b680d34418effd5abddb34158"
  },
  "kernelspec": {
   "display_name": "Python 3.8.5 64-bit ('base': conda)",
   "language": "python",
   "name": "python3"
  },
  "language_info": {
   "name": "python",
   "version": "3.8.5"
  },
  "orig_nbformat": 4
 },
 "nbformat": 4,
 "nbformat_minor": 2
}
