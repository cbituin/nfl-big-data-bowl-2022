{
 "cells": [
  {
   "cell_type": "markdown",
   "metadata": {},
   "source": [
    "# NFL Big Data Bowl 2022 Notebook\n",
    "### Author: Conrad Bituin"
   ]
  },
  {
   "cell_type": "markdown",
   "metadata": {},
   "source": [
    "## Topic to Analyze\n",
    "\n",
    "Quantify special teams strategy. Special teams’ coaches are among the most creative and innovative in the league. Compare/contrast how each team game plans. Which strategies yield the best results? What are other strategies that could be adopted?\n"
   ]
  },
  {
   "cell_type": "markdown",
   "metadata": {},
   "source": [
    "### References\n",
    "- [Official Competition Page](https://www.kaggle.com/c/nfl-big-data-bowl-2022/overview)\n",
    "- [Official Explanation of Data](https://www.kaggle.com/c/nfl-big-data-bowl-2022/data)\n",
    "- [Beginner Notebook via Kaggle](https://www.kaggle.com/werooring/nfl-big-data-bowl-basic-eda-for-beginner/notebook)\n",
    "- [Previous Bowl Recaps](https://operations.nfl.com/gameday/analytics/big-data-bowl/past-big-data-bowl-recaps/)"
   ]
  },
  {
   "cell_type": "markdown",
   "metadata": {},
   "source": [
    "## Background"
   ]
  },
  {
   "cell_type": "markdown",
   "metadata": {},
   "source": [
    "As of the writing of this notebook (Week 14, 2021 Season), NFL kickers have collectively missed 69 extra point attempts (PATs) and 122 field goals in the 2021 season [according to Pro Football Reference](https://www.pro-football-reference.com/). The intent of this notebook is to analyze the various situations and scenarios that could affect PAT and field goal outcomes. The model produced will attempt to find the optimal field conditions that will produce the highest likelihood for successful extra point and field goal attempts."
   ]
  },
  {
   "cell_type": "markdown",
   "metadata": {},
   "source": [
    "## Acquire Data"
   ]
  },
  {
   "cell_type": "code",
   "execution_count": 1,
   "metadata": {},
   "outputs": [],
   "source": [
    "# Common imports\n",
    "\n",
    "import matplotlib.pyplot as plt\n",
    "import matplotlib as mpl\n",
    "from matplotlib import cm\n",
    "import numpy as np\n",
    "import pandas as pd"
   ]
  },
  {
   "cell_type": "code",
   "execution_count": null,
   "metadata": {},
   "outputs": [],
   "source": [
    "# File imports\n",
    "\n",
    "# The games.csv contains the teams playing in each game. The key variable is gameId.\n",
    "games_df = pd.read_csv('../data/games.csv')\n",
    "\n",
    "# The PFFScoutingData.csv file contains play-level scouting information for each game. The key variables are gameId and playId.\n",
    "pffscouting_df = pd.read_csv('../data/PFFScoutingData.csv')\n",
    "\n",
    "# The players.csv file contains player-level information from players that participated in any of the tracking data files. The key variable is nflId.\n",
    "players_df = pd.read_csv('../data/players.csv')\n",
    "\n",
    "# The plays.csv file contains play-level information from each game. The key variables are gameId and playId.\n",
    "plays_df = pd.read_csv('../data/plays.csv')\n",
    "\n",
    "#Files tracking[season].csv contain player tracking data from season [season]. The key variables are gameId, playId, and nflId.\n",
    "tracking_2018_df = pd.read_csv('../data/tracking2018.csv')\n",
    "tracking_2019_df = pd.read_csv('../data/tracking2019.csv')\n",
    "tracking_2020_df = pd.read_csv('../data/tracking2020.csv')"
   ]
  },
  {
   "cell_type": "markdown",
   "metadata": {},
   "source": [
    "## Analyze and Describe Data\n",
    "\n",
    "### Summary \n",
    "\n",
    "Based on the data provided for consideration, there are a total of:\n",
    "- 764 games\n",
    "- 2732 players\n",
    "- 4435 plays\n",
    "  - 1986 plays were Field Goal attempts\n",
    "  - 2345 plays were Extra Point attempts \n"
   ]
  },
  {
   "cell_type": "markdown",
   "metadata": {},
   "source": [
    "### Overview of Games, Plays, and Players"
   ]
  },
  {
   "cell_type": "code",
   "execution_count": null,
   "metadata": {},
   "outputs": [],
   "source": [
    "print('Dataframe: Games')\n",
    "games_df.head()"
   ]
  },
  {
   "cell_type": "code",
   "execution_count": null,
   "metadata": {},
   "outputs": [],
   "source": [
    "print('Dataframe: Players')\n",
    "players_df.head()"
   ]
  },
  {
   "cell_type": "code",
   "execution_count": null,
   "metadata": {},
   "outputs": [],
   "source": [
    "print('Dataframe: Plays')\n",
    "plays_df.head()"
   ]
  },
  {
   "cell_type": "markdown",
   "metadata": {},
   "source": [
    "### Creating Test Sets"
   ]
  },
  {
   "cell_type": "code",
   "execution_count": null,
   "metadata": {},
   "outputs": [],
   "source": [
    "from sklearn.model_selection import train_test_split\n",
    "\n",
    "fg_df = plays_df[plays_df.specialTeamsPlayType == 'Field Goal']\n",
    "pat_df = plays_df[plays_df.specialTeamsPlayType == 'Extra Point']\n",
    "\n",
    "fg_train_set, fg_test_set = train_test_split(fg_df, test_size=0.2, random_state=42)\n",
    "fg_train = fg_train_set.copy()\n",
    "fg_test = fg_test_set.copy()\n",
    "\n",
    "pat_train_set, pat_test_set = train_test_split(pat_df, test_size=0.2, random_state=42)\n",
    "pat_train = pat_train_set.copy()\n",
    "pat_test = pat_test_set.copy()"
   ]
  },
  {
   "cell_type": "code",
   "execution_count": null,
   "metadata": {},
   "outputs": [],
   "source": [
    "# Preparing Data for Visualization\n",
    "%matplotlib inline\n",
    "\n",
    "# Field Goal Plays\n",
    "fg_df_by_quarter = fg_train.groupby('quarter').nunique().reset_index()[['quarter','playId']]\n",
    "fg_df_by_down = fg_train.groupby('down').nunique().reset_index()[['down','playId']]\n",
    "\n",
    "fg_success_by_kicker = fg_train[fg_train.specialTeamsResult == 'Kick Attempt Good'].groupby('kickerId').nunique().reset_index()[['kickerId','playId']]\n",
    "fg_total_by_kicker = fg_train.groupby('kickerId').nunique().reset_index()[['kickerId','playId']]\n",
    "\n",
    "fg_success_by_team = fg_train[fg_train.specialTeamsResult == 'Kick Attempt Good'].groupby('possessionTeam').nunique().reset_index()[['possessionTeam','playId']]\n",
    "fg_total_by_team = fg_train.groupby('possessionTeam').nunique().reset_index()[['possessionTeam','playId']]\n",
    "\n",
    "# PAT Plays\n",
    "pat_df_by_quarter = pat_train.groupby('quarter').nunique().reset_index()[['quarter','playId']]\n",
    "pat_df_by_down = pat_train.groupby('down').nunique().reset_index()[['down','playId']]\n",
    "\n",
    "pat_success_by_kicker = pat_train[pat_train.specialTeamsResult == 'Kick Attempt Good'].groupby('kickerId').nunique().reset_index()[['kickerId','playId']]\n",
    "pat_total_by_kicker = pat_train.groupby('kickerId').nunique().reset_index()[['kickerId','playId']]\n",
    "\n",
    "pat_success_by_team = pat_train[pat_train.specialTeamsResult == 'Kick Attempt Good'].groupby('possessionTeam').nunique().reset_index()[['possessionTeam','playId']]\n",
    "pat_total_by_team = pat_train.groupby('possessionTeam').nunique().reset_index()[['possessionTeam','playId']]\n"
   ]
  },
  {
   "cell_type": "markdown",
   "metadata": {},
   "source": [
    "#### Visualizations of Field Goal and Extra Point Attempts"
   ]
  },
  {
   "cell_type": "markdown",
   "metadata": {},
   "source": [
    "##### Field Goals"
   ]
  },
  {
   "cell_type": "code",
   "execution_count": null,
   "metadata": {},
   "outputs": [],
   "source": [
    "plt.figure(figsize=(15,10))\n",
    "\n",
    "# Field Goals per Quarter\n",
    "plt.subplot(1,2,1)\n",
    "plt.bar(fg_df_by_quarter.quarter, fg_df_by_quarter.playId)\n",
    "plt.title('Number of Field Goals per Quarter (2018-2020 Seasons)')\n",
    "plt.xlabel('Quarter')\n",
    "plt.ylabel('Number of Field Goals Attempted')\n",
    "plt.xlim(0, 6)\n",
    "\n",
    "\n",
    "# Field Goals per Down\n",
    "plt.subplot(1,2,2)\n",
    "plt.bar(fg_df_by_down.down, fg_df_by_down.playId)\n",
    "plt.title('Number of Field Goals per Down (2018-2020 Seasons)')\n",
    "plt.xlabel('Down')\n",
    "plt.ylabel('Number of Field Goals Attempted')\n",
    "plt.xlim(0, 5)\n",
    "plt.show()\n"
   ]
  },
  {
   "cell_type": "code",
   "execution_count": null,
   "metadata": {},
   "outputs": [],
   "source": [
    "plt.figure(figsize=(15, 5))\n",
    "\n",
    "plt.plot(fg_success_by_kicker.kickerId, fg_success_by_kicker.playId, label='Number of Successful Field Goals')\n",
    "plt.xlabel('Kicker ID')\n",
    "plt.ylabel('Number of Field Goals')\n",
    "\n",
    "plt.plot(fg_total_by_kicker.kickerId, fg_total_by_kicker.playId, label='Number of Attempted Field Goals')\n",
    "plt.xlabel('Kicker ID')\n",
    "plt.ylabel('Number of Field Goals')\n",
    "\n",
    "plt.legend()\n",
    "plt.suptitle('Field Goals by Kicker ID, 2018-2020 Seasons')\n",
    "plt.show()"
   ]
  },
  {
   "cell_type": "code",
   "execution_count": null,
   "metadata": {},
   "outputs": [],
   "source": [
    "plt.figure(figsize=(15, 5))\n",
    "\n",
    "plt.plot(fg_success_by_team.possessionTeam, fg_success_by_team.playId, label='Number of Successful Field Goals')\n",
    "plt.xlabel('Team')\n",
    "plt.ylabel('Number of Field Goals')\n",
    "\n",
    "plt.plot(fg_total_by_team.possessionTeam, fg_total_by_team.playId, label='Number of Attempted Field Goals')\n",
    "plt.xlabel('Team')\n",
    "plt.ylabel('Number of Field Goals')\n",
    "\n",
    "plt.legend()\n",
    "plt.suptitle('Field Goals by Team, 2018-2020 Seasons')\n",
    "plt.show()"
   ]
  },
  {
   "cell_type": "markdown",
   "metadata": {},
   "source": [
    "##### PATs"
   ]
  },
  {
   "cell_type": "code",
   "execution_count": null,
   "metadata": {},
   "outputs": [],
   "source": [
    "# PATs per Quarter\n",
    "plt.figure(figsize=(15,10))\n",
    "\n",
    "plt.bar(pat_df_by_quarter.quarter, pat_df_by_quarter.playId)\n",
    "plt.title('Number of PATs per Quarter (2018-2020 Seasons)')\n",
    "plt.xlabel('Quarter')\n",
    "plt.ylabel('Number of PATs Attempted')\n",
    "plt.xlim(0, 6)\n",
    "\n",
    "plt.show()"
   ]
  },
  {
   "cell_type": "code",
   "execution_count": null,
   "metadata": {},
   "outputs": [],
   "source": [
    "plt.figure(figsize=(15, 5))\n",
    "\n",
    "plt.plot(pat_success_by_kicker.kickerId, pat_success_by_kicker.playId, label='Number of Successful PATs')\n",
    "plt.xlabel('Kicker ID')\n",
    "plt.ylabel('Number of PATs')\n",
    "\n",
    "plt.plot(pat_total_by_kicker.kickerId, pat_total_by_kicker.playId, label='Number of Attempted PATs')\n",
    "plt.xlabel('Kicker ID')\n",
    "plt.ylabel('Number of PATs')\n",
    "\n",
    "plt.legend()\n",
    "plt.suptitle('PATs by Kicker ID, 2018-2020 Seasons')\n",
    "plt.show()"
   ]
  },
  {
   "cell_type": "code",
   "execution_count": null,
   "metadata": {},
   "outputs": [],
   "source": [
    "plt.figure(figsize=(15, 5))\n",
    "\n",
    "plt.plot(pat_success_by_team.possessionTeam, pat_success_by_team.playId, label='Number of Successful PATs')\n",
    "plt.xlabel('Team')\n",
    "plt.ylabel('Number of PATs')\n",
    "\n",
    "plt.plot(pat_total_by_team.possessionTeam, pat_total_by_team.playId, label='Number of Attempted PATs')\n",
    "plt.xlabel('Team')\n",
    "plt.ylabel('Number of PATs')\n",
    "\n",
    "plt.legend()\n",
    "plt.suptitle('PATs by Team, 2018-2020 Seasons')\n",
    "plt.show()"
   ]
  },
  {
   "cell_type": "markdown",
   "metadata": {},
   "source": [
    "### Overview of Tracking Data for NFL Seasons 2018-2020"
   ]
  },
  {
   "cell_type": "code",
   "execution_count": null,
   "metadata": {},
   "outputs": [],
   "source": [
    "print('Dataframe: 2018 Season')\n",
    "tracking_2018_df.head()"
   ]
  },
  {
   "cell_type": "code",
   "execution_count": null,
   "metadata": {},
   "outputs": [],
   "source": [
    "print('Dataframe: 2019 Season')\n",
    "tracking_2019_df.head()"
   ]
  },
  {
   "cell_type": "code",
   "execution_count": null,
   "metadata": {},
   "outputs": [],
   "source": [
    "print('Dataframe: 2020 Season')\n",
    "tracking_2020_df.head()"
   ]
  },
  {
   "cell_type": "markdown",
   "metadata": {},
   "source": [
    "## Wrangle Data"
   ]
  },
  {
   "cell_type": "code",
   "execution_count": null,
   "metadata": {
    "scrolled": true
   },
   "outputs": [],
   "source": [
    "# fg_df has 2657 records\n",
    "\n",
    "# The predicted responses should follow the categories found in `specialTeamsResult`. \n",
    "# Ultimately, this notebook will attempt to predict scenarios where `specialTeamsResult` will be `Kick Attempt Good`.\n",
    "\n",
    "fg_train.specialTeamsResult.unique()"
   ]
  },
  {
   "cell_type": "code",
   "execution_count": null,
   "metadata": {},
   "outputs": [],
   "source": [
    "# Combining season tracking data for holistic view of potential features that impact the success of the FG/PAT\n",
    "\n",
    "season_tracking_df = pd.concat([tracking_2018_df, tracking_2019_df, tracking_2020_df])"
   ]
  },
  {
   "cell_type": "code",
   "execution_count": null,
   "metadata": {},
   "outputs": [],
   "source": [
    "# Reducing the season tracking data to the initial position for Field Goal plays\n",
    "fg_initial_position = season_tracking_df[season_tracking_df.gameId.isin(fg_df.gameId) & \n",
    "                                         (season_tracking_df.frameId == 1) & \n",
    "                                         (season_tracking_df.position == 'K')]\n",
    "\n",
    "# Reducing the season tracking data to the initial position for PAT plays\n",
    "pat_initial_position = season_tracking_df[season_tracking_df.gameId.isin(pat_df.gameId) & \n",
    "                                         (season_tracking_df.frameId == 1) & \n",
    "                                         (season_tracking_df.position == 'K')]"
   ]
  },
  {
   "cell_type": "code",
   "execution_count": null,
   "metadata": {},
   "outputs": [],
   "source": [
    "fg_num_feats = ['yardsToGo', 'kickLength', 'preSnapHomeScore', 'preSnapVisitorScore', 'playResult', 'absoluteYardlineNumber']\n",
    "\n",
    "fg_cat_feats = ['quarter', 'down', 'kickerId']"
   ]
  },
  {
   "cell_type": "code",
   "execution_count": null,
   "metadata": {},
   "outputs": [],
   "source": [
    "# pat_df has 3488 records\n",
    "\n",
    "# The predicted responses should follow the categories found in `specialTeamsResult`. \n",
    "# Ultimately, this notebook will attempt to predict scenarios where `specialTeamsResult` will be `Kick Attempt Good`.\n",
    "\n",
    "pat_train.specialTeamsResult.unique()"
   ]
  },
  {
   "cell_type": "markdown",
   "metadata": {},
   "source": [
    "### Feature Engineering"
   ]
  },
  {
   "cell_type": "code",
   "execution_count": null,
   "metadata": {},
   "outputs": [],
   "source": [
    "from sklearn.pipeline import Pipeline\n",
    "from sklearn.preprocessing import StandardScaler, OneHotEncoder\n",
    "from sklearn.impute import SimpleImputer\n",
    "from sklearn.compose import ColumnTransformer\n",
    "\n",
    "num_pipeline = Pipeline([\n",
    "    ('imputer', SimpleImputer(strategy = 'mean')),\n",
    "    ('std_scaler', StandardScaler())\n",
    "])\n",
    "\n",
    "full_pipeline = ColumnTransformer([\n",
    "    ('num', num_pipeline, fg_num_feats),\n",
    "])"
   ]
  },
  {
   "cell_type": "code",
   "execution_count": null,
   "metadata": {},
   "outputs": [],
   "source": [
    "fg_prepared = fg_train[['yardsToGo', 'kickLength', 'preSnapHomeScore', 'preSnapVisitorScore', 'playResult', 'absoluteYardlineNumber', 'quarter', 'down', 'kickerId']]\n",
    "fg_features = full_pipeline.fit_transform(fg_prepared)\n",
    "fg_features"
   ]
  },
  {
   "cell_type": "markdown",
   "metadata": {},
   "source": [
    "### Response Engineering"
   ]
  },
  {
   "cell_type": "code",
   "execution_count": null,
   "metadata": {},
   "outputs": [],
   "source": [
    "# fg_df\n",
    "fg_labels = pd.get_dummies(fg_train, columns=['specialTeamsResult']).rename(columns={'specialTeamsResult_Kick Attempt Good': 'fg_attempt_good'})\n",
    "fg_response = fg_labels.fg_attempt_good\n",
    "\n",
    "# pat_df\n",
    "pat_labels = pd.get_dummies(pat_train, columns=['specialTeamsResult']).rename(columns={'specialTeamsResult_Kick Attempt Good': 'pat_attempt_good'})\n",
    "pat_response = pat_labels.pat_attempt_good"
   ]
  },
  {
   "cell_type": "markdown",
   "metadata": {},
   "source": [
    "## Model Data"
   ]
  },
  {
   "cell_type": "code",
   "execution_count": null,
   "metadata": {},
   "outputs": [],
   "source": [
    "from sklearn.linear_model import LogisticRegression\n",
    "\n",
    "log_reg = LogisticRegression(solver='lbfgs', random_state=42)\n",
    "log_reg.fit(fg_features, fg_response)"
   ]
  },
  {
   "cell_type": "code",
   "execution_count": null,
   "metadata": {},
   "outputs": [],
   "source": [
    "log_reg.coef_"
   ]
  },
  {
   "cell_type": "code",
   "execution_count": null,
   "metadata": {},
   "outputs": [],
   "source": [
    "log_reg.intercept_"
   ]
  },
  {
   "cell_type": "code",
   "execution_count": null,
   "metadata": {},
   "outputs": [],
   "source": [
    "fg_prepared_preds = fg_test[['yardsToGo', 'kickLength', 'preSnapHomeScore', 'preSnapVisitorScore', 'playResult', 'absoluteYardlineNumber', 'quarter', 'down', 'kickerId']]\n",
    "fg_predict = full_pipeline.fit_transform(fg_prepared_preds)\n",
    "\n",
    "print('Predictions:', log_reg.predict(fg_predict))"
   ]
  },
  {
   "cell_type": "code",
   "execution_count": null,
   "metadata": {},
   "outputs": [],
   "source": [
    "fg_labels = pd.get_dummies(fg_test, columns=['specialTeamsResult']).rename(columns={'specialTeamsResult_Kick Attempt Good': 'fg_attempt_good'})\n",
    "fg_labels = fg_labels.fg_attempt_good\n",
    "print('Labels:', list(fg_labels))"
   ]
  },
  {
   "cell_type": "code",
   "execution_count": null,
   "metadata": {},
   "outputs": [],
   "source": [
    "from sklearn.metrics import accuracy_score\n",
    "\n",
    "print(\"accuracy score: \", accuracy_score(fg_labels, log_reg.predict(fg_predict)))"
   ]
  },
  {
   "cell_type": "markdown",
   "metadata": {},
   "source": [
    "## Solution"
   ]
  },
  {
   "cell_type": "markdown",
   "metadata": {},
   "source": [
    "This is the solution, tbd."
   ]
  }
 ],
 "metadata": {
  "interpreter": {
   "hash": "89879450a8b782232bf246dbf054832d797e2a3b680d34418effd5abddb34158"
  },
  "kernelspec": {
   "display_name": "Python 3",
   "language": "python",
   "name": "python3"
  },
  "language_info": {
   "codemirror_mode": {
    "name": "ipython",
    "version": 3
   },
   "file_extension": ".py",
   "mimetype": "text/x-python",
   "name": "python",
   "nbconvert_exporter": "python",
   "pygments_lexer": "ipython3",
   "version": "3.8.5"
  }
 },
 "nbformat": 4,
 "nbformat_minor": 2
}
