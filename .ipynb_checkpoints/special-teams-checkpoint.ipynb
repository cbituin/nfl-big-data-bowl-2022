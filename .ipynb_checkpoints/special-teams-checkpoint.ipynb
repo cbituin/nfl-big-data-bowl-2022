{
 "cells": [
  {
   "cell_type": "markdown",
   "metadata": {},
   "source": [
    "# NFL Big Data Bowl 2022 Notebook\n",
    "### Author: Conrad Bituin"
   ]
  },
  {
   "cell_type": "markdown",
   "metadata": {},
   "source": [
    "## Acquire Data"
   ]
  },
  {
   "cell_type": "code",
   "execution_count": 1,
   "metadata": {},
   "outputs": [],
   "source": [
    "# Common imports\n",
    "import matplotlib.pyplot as plt\n",
    "import matplotlib as mpl\n",
    "from matplotlib import cm\n",
    "import numpy as np\n",
    "import pandas as pd"
   ]
  },
  {
   "cell_type": "code",
   "execution_count": 4,
   "metadata": {},
   "outputs": [],
   "source": [
    "# File imports\n",
    "\n",
    "games_df = pd.read_csv('../data/games.csv')\n",
    "pffscouting_df = pd.read_csv('../data/PFFScoutingData.csv')\n",
    "players_df = pd.read_csv('../data/players.csv')\n",
    "plays_df = pd.read_csv('../data/plays.csv')\n",
    "tracking_2018_df = pd.read_csv('../data/tracking2018.csv')\n",
    "tracking_2019_df = pd.read_csv('../data/tracking2019.csv')\n",
    "tracking_2020_df = pd.read_csv('../data/tracking2020.csv')"
   ]
  },
  {
   "cell_type": "markdown",
   "metadata": {},
   "source": [
    "## Analyze and Describe Data"
   ]
  },
  {
   "cell_type": "code",
   "execution_count": 23,
   "metadata": {},
   "outputs": [
    {
     "name": "stdout",
     "output_type": "stream",
     "text": [
      "<class 'pandas.core.frame.DataFrame'>\n",
      "RangeIndex: 764 entries, 0 to 763\n",
      "Data columns (total 7 columns):\n",
      " #   Column           Non-Null Count  Dtype \n",
      "---  ------           --------------  ----- \n",
      " 0   gameId           764 non-null    int64 \n",
      " 1   season           764 non-null    int64 \n",
      " 2   week             764 non-null    int64 \n",
      " 3   gameDate         764 non-null    object\n",
      " 4   gameTimeEastern  764 non-null    object\n",
      " 5   homeTeamAbbr     764 non-null    object\n",
      " 6   visitorTeamAbbr  764 non-null    object\n",
      "dtypes: int64(3), object(4)\n",
      "memory usage: 41.9+ KB\n"
     ]
    }
   ],
   "source": [
    "games_df.info()"
   ]
  },
  {
   "cell_type": "code",
   "execution_count": 22,
   "metadata": {},
   "outputs": [
    {
     "name": "stdout",
     "output_type": "stream",
     "text": [
      "<class 'pandas.core.frame.DataFrame'>\n",
      "RangeIndex: 19979 entries, 0 to 19978\n",
      "Data columns (total 20 columns):\n",
      " #   Column                   Non-Null Count  Dtype  \n",
      "---  ------                   --------------  -----  \n",
      " 0   gameId                   19979 non-null  int64  \n",
      " 1   playId                   19979 non-null  int64  \n",
      " 2   snapDetail               5919 non-null   object \n",
      " 3   snapTime                 5918 non-null   float64\n",
      " 4   operationTime            5918 non-null   float64\n",
      " 5   hangTime                 13098 non-null  float64\n",
      " 6   kickType                 13723 non-null  object \n",
      " 7   kickDirectionIntended    13701 non-null  object \n",
      " 8   kickDirectionActual      13701 non-null  object \n",
      " 9   returnDirectionIntended  4754 non-null   object \n",
      " 10  returnDirectionActual    4756 non-null   object \n",
      " 11  missedTackler            1348 non-null   object \n",
      " 12  assistTackler            1034 non-null   object \n",
      " 13  tackler                  4759 non-null   object \n",
      " 14  kickoffReturnFormation   7843 non-null   object \n",
      " 15  gunners                  5901 non-null   object \n",
      " 16  puntRushers              3010 non-null   object \n",
      " 17  specialTeamsSafeties     15937 non-null  object \n",
      " 18  vises                    5878 non-null   object \n",
      " 19  kickContactType          5879 non-null   object \n",
      "dtypes: float64(3), int64(2), object(15)\n",
      "memory usage: 3.0+ MB\n"
     ]
    }
   ],
   "source": [
    "pffscouting_df.info()"
   ]
  },
  {
   "cell_type": "code",
   "execution_count": 24,
   "metadata": {},
   "outputs": [
    {
     "name": "stdout",
     "output_type": "stream",
     "text": [
      "<class 'pandas.core.frame.DataFrame'>\n",
      "RangeIndex: 2732 entries, 0 to 2731\n",
      "Data columns (total 7 columns):\n",
      " #   Column       Non-Null Count  Dtype \n",
      "---  ------       --------------  ----- \n",
      " 0   nflId        2732 non-null   int64 \n",
      " 1   height       2732 non-null   object\n",
      " 2   weight       2732 non-null   int64 \n",
      " 3   birthDate    2715 non-null   object\n",
      " 4   collegeName  2724 non-null   object\n",
      " 5   Position     2732 non-null   object\n",
      " 6   displayName  2732 non-null   object\n",
      "dtypes: int64(2), object(5)\n",
      "memory usage: 149.5+ KB\n"
     ]
    }
   ],
   "source": [
    "players_df.info()"
   ]
  },
  {
   "cell_type": "code",
   "execution_count": 25,
   "metadata": {},
   "outputs": [
    {
     "name": "stdout",
     "output_type": "stream",
     "text": [
      "<class 'pandas.core.frame.DataFrame'>\n",
      "RangeIndex: 19979 entries, 0 to 19978\n",
      "Data columns (total 25 columns):\n",
      " #   Column                  Non-Null Count  Dtype  \n",
      "---  ------                  --------------  -----  \n",
      " 0   gameId                  19979 non-null  int64  \n",
      " 1   playId                  19979 non-null  int64  \n",
      " 2   playDescription         19979 non-null  object \n",
      " 3   quarter                 19979 non-null  int64  \n",
      " 4   down                    19979 non-null  int64  \n",
      " 5   yardsToGo               19979 non-null  int64  \n",
      " 6   possessionTeam          19979 non-null  object \n",
      " 7   specialTeamsPlayType    19979 non-null  object \n",
      " 8   specialTeamsResult      19979 non-null  object \n",
      " 9   kickerId                19878 non-null  float64\n",
      " 10  returnerId              6938 non-null   object \n",
      " 11  kickBlockerId           100 non-null    float64\n",
      " 12  yardlineSide            19813 non-null  object \n",
      " 13  yardlineNumber          19979 non-null  int64  \n",
      " 14  gameClock               19979 non-null  object \n",
      " 15  penaltyCodes            1102 non-null   object \n",
      " 16  penaltyJerseyNumbers    1102 non-null   object \n",
      " 17  penaltyYards            1102 non-null   float64\n",
      " 18  preSnapHomeScore        19979 non-null  int64  \n",
      " 19  preSnapVisitorScore     19979 non-null  int64  \n",
      " 20  passResult              45 non-null     object \n",
      " 21  kickLength              16327 non-null  float64\n",
      " 22  kickReturnYardage       5324 non-null   float64\n",
      " 23  playResult              19979 non-null  int64  \n",
      " 24  absoluteYardlineNumber  19979 non-null  int64  \n",
      "dtypes: float64(5), int64(10), object(10)\n",
      "memory usage: 3.8+ MB\n"
     ]
    }
   ],
   "source": [
    "plays_df.info()"
   ]
  },
  {
   "cell_type": "code",
   "execution_count": 27,
   "metadata": {},
   "outputs": [
    {
     "name": "stdout",
     "output_type": "stream",
     "text": [
      "<class 'pandas.core.frame.DataFrame'>\n",
      "RangeIndex: 12777351 entries, 0 to 12777350\n",
      "Data columns (total 18 columns):\n",
      " #   Column         Dtype  \n",
      "---  ------         -----  \n",
      " 0   time           object \n",
      " 1   x              float64\n",
      " 2   y              float64\n",
      " 3   s              float64\n",
      " 4   a              float64\n",
      " 5   dis            float64\n",
      " 6   o              float64\n",
      " 7   dir            float64\n",
      " 8   event          object \n",
      " 9   nflId          float64\n",
      " 10  displayName    object \n",
      " 11  jerseyNumber   float64\n",
      " 12  position       object \n",
      " 13  team           object \n",
      " 14  frameId        int64  \n",
      " 15  gameId         int64  \n",
      " 16  playId         int64  \n",
      " 17  playDirection  object \n",
      "dtypes: float64(9), int64(3), object(6)\n",
      "memory usage: 1.7+ GB\n"
     ]
    }
   ],
   "source": [
    "tracking_2018_df.info()"
   ]
  },
  {
   "cell_type": "code",
   "execution_count": 28,
   "metadata": {},
   "outputs": [
    {
     "name": "stdout",
     "output_type": "stream",
     "text": [
      "<class 'pandas.core.frame.DataFrame'>\n",
      "RangeIndex: 12170933 entries, 0 to 12170932\n",
      "Data columns (total 18 columns):\n",
      " #   Column         Dtype  \n",
      "---  ------         -----  \n",
      " 0   time           object \n",
      " 1   x              float64\n",
      " 2   y              float64\n",
      " 3   s              float64\n",
      " 4   a              float64\n",
      " 5   dis            float64\n",
      " 6   o              float64\n",
      " 7   dir            float64\n",
      " 8   event          object \n",
      " 9   nflId          float64\n",
      " 10  displayName    object \n",
      " 11  jerseyNumber   float64\n",
      " 12  position       object \n",
      " 13  team           object \n",
      " 14  frameId        int64  \n",
      " 15  gameId         int64  \n",
      " 16  playId         int64  \n",
      " 17  playDirection  object \n",
      "dtypes: float64(9), int64(3), object(6)\n",
      "memory usage: 1.6+ GB\n"
     ]
    }
   ],
   "source": [
    "tracking_2019_df.info()"
   ]
  },
  {
   "cell_type": "code",
   "execution_count": 29,
   "metadata": {},
   "outputs": [
    {
     "name": "stdout",
     "output_type": "stream",
     "text": [
      "<class 'pandas.core.frame.DataFrame'>\n",
      "RangeIndex: 11821701 entries, 0 to 11821700\n",
      "Data columns (total 18 columns):\n",
      " #   Column         Dtype  \n",
      "---  ------         -----  \n",
      " 0   time           object \n",
      " 1   x              float64\n",
      " 2   y              float64\n",
      " 3   s              float64\n",
      " 4   a              float64\n",
      " 5   dis            float64\n",
      " 6   o              float64\n",
      " 7   dir            float64\n",
      " 8   event          object \n",
      " 9   nflId          float64\n",
      " 10  displayName    object \n",
      " 11  jerseyNumber   float64\n",
      " 12  position       object \n",
      " 13  team           object \n",
      " 14  frameId        int64  \n",
      " 15  gameId         int64  \n",
      " 16  playId         int64  \n",
      " 17  playDirection  object \n",
      "dtypes: float64(9), int64(3), object(6)\n",
      "memory usage: 1.6+ GB\n"
     ]
    }
   ],
   "source": [
    "tracking_2020_df.info()"
   ]
  }
 ],
 "metadata": {
  "interpreter": {
   "hash": "89879450a8b782232bf246dbf054832d797e2a3b680d34418effd5abddb34158"
  },
  "kernelspec": {
   "display_name": "Python 3",
   "language": "python",
   "name": "python3"
  },
  "language_info": {
   "codemirror_mode": {
    "name": "ipython",
    "version": 3
   },
   "file_extension": ".py",
   "mimetype": "text/x-python",
   "name": "python",
   "nbconvert_exporter": "python",
   "pygments_lexer": "ipython3",
   "version": "3.8.5"
  }
 },
 "nbformat": 4,
 "nbformat_minor": 2
}
